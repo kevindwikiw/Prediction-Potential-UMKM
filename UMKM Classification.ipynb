{
  "cells": [
    {
      "cell_type": "markdown",
      "metadata": {
        "id": "view-in-github"
      },
      "source": [
        "<a href=\"https://colab.research.google.com/github/fatiamaresti/Classification_deploy/blob/main/Final_Notebook_Kevin.ipynb\" target=\"_parent\"><img src=\"https://colab.research.google.com/assets/colab-badge.svg\" alt=\"Open In Colab\"/></a>"
      ]
    },
    {
      "cell_type": "markdown",
      "source": [
        "# 0. **Introduction**"
      ],
      "metadata": {
        "id": "9UNjZgN9Xj5V"
      }
    },
    {
      "cell_type": "markdown",
      "metadata": {
        "id": "XWWsVbIrQl_l"
      },
      "source": [
        "#### Table of Content\n",
        "1. Import Packages\n",
        "2. Load Dataset\n",
        "3. Data Preparation\n",
        "4. EDA\n",
        "  *   4.1 Univariate Analysis\n",
        "    *   4.1.1 Continous Variable\n",
        "    *   4.1.2 Categorical Variable\n",
        "  *   4.2 Bivariate Analysis\n",
        "    *   4.2.1 Label By Website & Telepon\n",
        "    *   4.2.2 Label By SME Kelengkapan Data\n",
        "    *   4.2.3 Label By Review Relevan\n",
        "    *   4.2.4 Conclution of Bivariate Analysist\n",
        "\n",
        "5. Classification\n",
        "  *   5.1 Prepare Dataset for Modeling\n",
        "  *   5.2 Classification Method\n",
        "    *   5.2.1 Model Logistic Regression\n",
        "    *   5.2.2 Model Decision Tree\n",
        "    *   5.2.3 Model Random Forest\n",
        "    *   5.2.4 Model Support Vector Classification\n",
        "    *   5.2.5 Model Gaussian Naive Bayes\n",
        "    *   5.2.6 Model Ada Boost Classification\n",
        "    *   5.2.7 Model Gradient Boost Classification\n",
        "    *   5.2.8 Model Stochastic Gradient Descent\n",
        "  *   5.3 Model Evaluation\n",
        "    \n"
      ]
    },
    {
      "cell_type": "markdown",
      "metadata": {
        "id": "-IpASUmrQl_m"
      },
      "source": [
        "# **1. Import Packages**"
      ]
    },
    {
      "cell_type": "code",
      "source": [
        "!pip install --upgrade openpyxl"
      ],
      "metadata": {
        "id": "99lG_tK93nRW",
        "outputId": "5261886a-2136-4247-d940-b84f138be32b",
        "colab": {
          "base_uri": "https://localhost:8080/",
          "height": 0
        }
      },
      "execution_count": 1,
      "outputs": [
        {
          "output_type": "stream",
          "name": "stdout",
          "text": [
            "Requirement already satisfied: openpyxl in /usr/local/lib/python3.7/dist-packages (3.0.9)\n",
            "Requirement already satisfied: et-xmlfile in /usr/local/lib/python3.7/dist-packages (from openpyxl) (1.1.0)\n"
          ]
        }
      ]
    },
    {
      "cell_type": "code",
      "execution_count": 2,
      "metadata": {
        "colab": {
          "base_uri": "https://localhost:8080/",
          "height": 0
        },
        "id": "MR6l79ItQl_m",
        "outputId": "fec703c0-8217-411a-cf3a-a9754003b789"
      },
      "outputs": [
        {
          "output_type": "stream",
          "name": "stderr",
          "text": [
            "/usr/local/lib/python3.7/dist-packages/statsmodels/tools/_testing.py:19: FutureWarning: pandas.util.testing is deprecated. Use the functions in the public API at pandas.testing instead.\n",
            "  import pandas.util.testing as tm\n"
          ]
        },
        {
          "output_type": "execute_result",
          "data": {
            "text/plain": [
              "<function seaborn.rcmod.set_style>"
            ]
          },
          "metadata": {},
          "execution_count": 2
        }
      ],
      "source": [
        "import pandas as pd\n",
        "import matplotlib.pyplot as plt\n",
        "import numpy as np\n",
        "import seaborn as sns\n",
        "import statsmodels.api as sm\n",
        "from sklearn.preprocessing import LabelEncoder\n",
        "from sklearn.model_selection import train_test_split\n",
        "from sklearn.metrics import confusion_matrix, classification_report\n",
        "\n",
        "%matplotlib inline\n",
        "sns.set_style\n"
      ]
    },
    {
      "cell_type": "code",
      "execution_count": 3,
      "metadata": {
        "colab": {
          "base_uri": "https://localhost:8080/",
          "height": 0
        },
        "id": "NP03FmwLE619",
        "outputId": "0e0bb3aa-9edc-40a8-b569-1291d5996596"
      },
      "outputs": [
        {
          "output_type": "stream",
          "name": "stdout",
          "text": [
            "Requirement already satisfied: pandas in /usr/local/lib/python3.7/dist-packages (1.3.5)\n",
            "Requirement already satisfied: python-dateutil>=2.7.3 in /usr/local/lib/python3.7/dist-packages (from pandas) (2.8.2)\n",
            "Requirement already satisfied: numpy>=1.17.3 in /usr/local/lib/python3.7/dist-packages (from pandas) (1.19.5)\n",
            "Requirement already satisfied: pytz>=2017.3 in /usr/local/lib/python3.7/dist-packages (from pandas) (2018.9)\n",
            "Requirement already satisfied: six>=1.5 in /usr/local/lib/python3.7/dist-packages (from python-dateutil>=2.7.3->pandas) (1.15.0)\n"
          ]
        }
      ],
      "source": [
        "!pip3 install pandas"
      ]
    },
    {
      "cell_type": "markdown",
      "metadata": {
        "id": "YVWLsTDYQl_n"
      },
      "source": [
        "# **2. Load Dataset**"
      ]
    },
    {
      "cell_type": "markdown",
      "metadata": {
        "id": "V4yTMDW0B3RT"
      },
      "source": [
        "The dataset will be prepared through gdown"
      ]
    },
    {
      "cell_type": "code",
      "execution_count": 2,
      "metadata": {
        "id": "v8gzc5psB5Sv"
      },
      "outputs": [],
      "source": [
        "import gdown"
      ]
    },
    {
      "cell_type": "code",
      "execution_count": 4,
      "metadata": {
        "colab": {
          "base_uri": "https://localhost:8080/"
        },
        "id": "oVJtJTGkFKZi",
        "outputId": "2bc6a78d-0e34-406e-cf98-d159f7bff737"
      },
      "outputs": [
        {
          "output_type": "stream",
          "name": "stdout",
          "text": [
            "Access denied with the following error:\n",
            "\n",
            " \tCannot retrieve the public link of the file. You may need to change\n",
            "\tthe permission to 'Anyone with the link', or have had many accesses. \n",
            "\n",
            "You may still be able to access the file from the browser:\n",
            "\n",
            "\t https://drive.google.com/uc?id=code \n",
            "\n"
          ]
        }
      ],
      "source": [
        "!gdown https://drive.google.com/uc?id=code"
      ]
    },
    {
      "cell_type": "markdown",
      "metadata": {
        "id": "J5rd5lA0Ql_o"
      },
      "source": [
        "# **3. Data Preparation**\n",
        "\n",
        "Here, we will manipulate the data so that it will fit better in the model"
      ]
    },
    {
      "cell_type": "markdown",
      "metadata": {
        "id": "nDNubKqnQ4ip"
      },
      "source": [
        "Labeling is given by SME based on the requirements below and knowledge from data history of merchant GoFood\n",
        "\n",
        "---\n",
        "\n",
        "1. **Rating** Contains the overall rating of the Business/MSMEs out of 5 \n",
        "2. **Total Reviews** Contains total number of rating for the MSMEs as of the above mentioned date\n",
        "3. **Distance** Contains Business/MSME's distance to the nearest high school\n",
        "4. **Check_Hp** Contains the yes or no of a phone number in the Business/MSME's  \n",
        "5. **Check_Web** Contains the yes or no of a website number in the Business/MSME's  \n",
        "6. **Review_Relevan** Contains total relevant reviews based on the algorithm that has been given by Google \n",
        "6. **Kelengkapan Data** Contains Fulfilled data value from SME generated from scraping"
      ]
    },
    {
      "cell_type": "code",
      "execution_count": 6,
      "metadata": {
        "colab": {
          "base_uri": "https://localhost:8080/",
          "height": 721
        },
        "id": "VsHSDzFZQl_o",
        "outputId": "55ba9b1d-14b5-4b1f-cc2f-f46bd0032f47"
      },
      "outputs": [
        {
          "output_type": "execute_result",
          "data": {
            "text/html": [
              "\n",
              "  <div id=\"df-054ccdb9-617c-41c5-a54e-eccaf15d79fe\">\n",
              "    <div class=\"colab-df-container\">\n",
              "      <div>\n",
              "<style scoped>\n",
              "    .dataframe tbody tr th:only-of-type {\n",
              "        vertical-align: middle;\n",
              "    }\n",
              "\n",
              "    .dataframe tbody tr th {\n",
              "        vertical-align: top;\n",
              "    }\n",
              "\n",
              "    .dataframe thead th {\n",
              "        text-align: right;\n",
              "    }\n",
              "</style>\n",
              "<table border=\"1\" class=\"dataframe\">\n",
              "  <thead>\n",
              "    <tr style=\"text-align: right;\">\n",
              "      <th></th>\n",
              "      <th>Nama_Tempat</th>\n",
              "      <th>Alamat</th>\n",
              "      <th>Code_Plus</th>\n",
              "      <th>Location</th>\n",
              "      <th>Latitude</th>\n",
              "      <th>Longitude</th>\n",
              "      <th>Kategori</th>\n",
              "      <th>Wilayah</th>\n",
              "      <th>KodePos</th>\n",
              "      <th>Senin</th>\n",
              "      <th>Selasa</th>\n",
              "      <th>Rabu</th>\n",
              "      <th>Kamis</th>\n",
              "      <th>Jumat</th>\n",
              "      <th>Sabtu</th>\n",
              "      <th>Minggu</th>\n",
              "      <th>Rating</th>\n",
              "      <th>Total_Reviews</th>\n",
              "      <th>Review_Relevan</th>\n",
              "      <th>Website</th>\n",
              "      <th>Telepon</th>\n",
              "      <th>SME_Data</th>\n",
              "      <th>Nearest_School</th>\n",
              "      <th>Distance</th>\n",
              "      <th>Check_Web</th>\n",
              "      <th>Check_Telepon</th>\n",
              "      <th>Label</th>\n",
              "    </tr>\n",
              "  </thead>\n",
              "  <tbody>\n",
              "    <tr>\n",
              "      <th>0</th>\n",
              "      <td>Raminten Kitchen</td>\n",
              "      <td>Jl. Sabirin, Kotabaru, Kec. Gondokusuman, Kota...</td>\n",
              "      <td>698C+6R Kotabaru, Kota Yogyakarta, Daerah Isti...</td>\n",
              "      <td>-7.7844065, 110.3721107</td>\n",
              "      <td>-7.784407</td>\n",
              "      <td>110.372111</td>\n",
              "      <td>Restoran Jawa</td>\n",
              "      <td>Kota Yogyakarta</td>\n",
              "      <td>55224</td>\n",
              "      <td>Buka 24 Jam</td>\n",
              "      <td>Buka 24 Jam</td>\n",
              "      <td>Buka 24 Jam</td>\n",
              "      <td>Buka 24 Jam</td>\n",
              "      <td>Buka 24 Jam</td>\n",
              "      <td>Buka 24 Jam</td>\n",
              "      <td>Buka 24 Jam</td>\n",
              "      <td>4.3</td>\n",
              "      <td>9871</td>\n",
              "      <td>Sangat Terpenuhi</td>\n",
              "      <td>NaN</td>\n",
              "      <td>+62 877-3888-4008</td>\n",
              "      <td>Kurang Lengkap</td>\n",
              "      <td>SMAS STELLA DUCE 1</td>\n",
              "      <td>0.034237</td>\n",
              "      <td>No</td>\n",
              "      <td>Yes</td>\n",
              "      <td>Potential</td>\n",
              "    </tr>\n",
              "    <tr>\n",
              "      <th>1</th>\n",
              "      <td>Legend Coffee</td>\n",
              "      <td>Jl. Abu Bakar Ali No.24-26, Kotabaru, Kec. Gon...</td>\n",
              "      <td>696F+P4 Kotabaru, Kota Yogyakarta, Daerah Isti...</td>\n",
              "      <td>-7.7881171, 110.3727807</td>\n",
              "      <td>-7.788117</td>\n",
              "      <td>110.372781</td>\n",
              "      <td>Restoran</td>\n",
              "      <td>Kota Yogyakarta</td>\n",
              "      <td>55224</td>\n",
              "      <td>09.00 - 00.00</td>\n",
              "      <td>09.00 - 00.00</td>\n",
              "      <td>09.00 - 00.00</td>\n",
              "      <td>09.00 - 00.00</td>\n",
              "      <td>09.00 - 00.00</td>\n",
              "      <td>09.00 - 00.00</td>\n",
              "      <td>09.00 - 00.00</td>\n",
              "      <td>4.4</td>\n",
              "      <td>9288</td>\n",
              "      <td>Sangat Terpenuhi</td>\n",
              "      <td>http://www.legendcoffeejogja.com/</td>\n",
              "      <td>+62 274 541290</td>\n",
              "      <td>Sempurna</td>\n",
              "      <td>SMAN 3 YOGYAKARTA</td>\n",
              "      <td>0.201196</td>\n",
              "      <td>Yes</td>\n",
              "      <td>Yes</td>\n",
              "      <td>Sangat Potential</td>\n",
              "    </tr>\n",
              "    <tr>\n",
              "      <th>2</th>\n",
              "      <td>Harris Hotel &amp; Conventions Gubeng - Surabaya</td>\n",
              "      <td>Jl. Bangka No.08-18, Gubeng, Kec. Gubeng, Kota...</td>\n",
              "      <td>PPGX+WQ Gubeng, Surabaya City, East Java, Indo...</td>\n",
              "      <td>-7.2726026,112.7490344</td>\n",
              "      <td>-7.272603</td>\n",
              "      <td>112.749034</td>\n",
              "      <td>Restaurant</td>\n",
              "      <td>PQ9M+8X Manyar Sabrangan, Surabaya City, East ...</td>\n",
              "      <td>60281</td>\n",
              "      <td>Buka 24 Jam</td>\n",
              "      <td>Buka 24 Jam</td>\n",
              "      <td>Buka 24 Jam</td>\n",
              "      <td>Buka 24 Jam</td>\n",
              "      <td>Buka 24 Jam</td>\n",
              "      <td>Buka 24 Jam</td>\n",
              "      <td>Buka 24 Jam</td>\n",
              "      <td>4.5</td>\n",
              "      <td>9222</td>\n",
              "      <td>Sangat Terpenuhi</td>\n",
              "      <td>https://www.discoverasr.com/en/harris/indonesi...</td>\n",
              "      <td>031 5011100</td>\n",
              "      <td>Sempurna</td>\n",
              "      <td>SMAS GIKI 2</td>\n",
              "      <td>0.248499</td>\n",
              "      <td>Yes</td>\n",
              "      <td>Yes</td>\n",
              "      <td>Sangat Potential</td>\n",
              "    </tr>\n",
              "    <tr>\n",
              "      <th>3</th>\n",
              "      <td>Lulu Hypermarket &amp; Department Store - Plaza Taman</td>\n",
              "      <td>Plaza Taman Modern, Jl. Raya Bekasi No.24, Uju...</td>\n",
              "      <td>RW7X+6J Ujung Menteng, Kota Jakarta Timur, Dae...</td>\n",
              "      <td>-6.1869541,106.9490205</td>\n",
              "      <td>-6.186954</td>\n",
              "      <td>106.949021</td>\n",
              "      <td>Hipermarket</td>\n",
              "      <td>Kota Jakarta Timur</td>\n",
              "      <td>13960</td>\n",
              "      <td>09.00 - 21.00</td>\n",
              "      <td>09.00 - 21.00</td>\n",
              "      <td>09.00 - 21.00</td>\n",
              "      <td>09.00 - 21.00</td>\n",
              "      <td>09.00 - 21.00</td>\n",
              "      <td>09.00 - 21.00</td>\n",
              "      <td>09.00 - 21.00</td>\n",
              "      <td>4.5</td>\n",
              "      <td>9163</td>\n",
              "      <td>Sangat Terpenuhi</td>\n",
              "      <td>https://www.luluhypermarket.com/bh-id</td>\n",
              "      <td>+62 21 29844000</td>\n",
              "      <td>Sempurna</td>\n",
              "      <td>SMAS DIPONEGORO 2 JAKARTA</td>\n",
              "      <td>0.805086</td>\n",
              "      <td>Yes</td>\n",
              "      <td>Yes</td>\n",
              "      <td>Sangat Potential</td>\n",
              "    </tr>\n",
              "    <tr>\n",
              "      <th>4</th>\n",
              "      <td>Mie Baso Akung</td>\n",
              "      <td>Jl. Lodaya No.123, Burangrang, Kec. Lengkong, ...</td>\n",
              "      <td>3J9G+63 Burangrang, Kota Bandung, Jawa Barat, ...</td>\n",
              "      <td>-6.9319848,107.6251674</td>\n",
              "      <td>-6.931985</td>\n",
              "      <td>107.625167</td>\n",
              "      <td>Restoran Bakso</td>\n",
              "      <td>Kota Bandung</td>\n",
              "      <td>40263</td>\n",
              "      <td>09.30 - 20.00</td>\n",
              "      <td>09.30 - 20.00</td>\n",
              "      <td>09.30 - 20.00</td>\n",
              "      <td>09.30 - 20.00</td>\n",
              "      <td>NaN</td>\n",
              "      <td>09.30 - 20.00</td>\n",
              "      <td>09.30 - 20.00</td>\n",
              "      <td>4.5</td>\n",
              "      <td>8830</td>\n",
              "      <td>Terpenuhi</td>\n",
              "      <td>NaN</td>\n",
              "      <td>+62 22 7314746</td>\n",
              "      <td>Sangat Kurang Lengkap</td>\n",
              "      <td>SMAS MUHAMMADIYAH 3 BANDUNG</td>\n",
              "      <td>0.140069</td>\n",
              "      <td>No</td>\n",
              "      <td>Yes</td>\n",
              "      <td>Potential</td>\n",
              "    </tr>\n",
              "  </tbody>\n",
              "</table>\n",
              "</div>\n",
              "      <button class=\"colab-df-convert\" onclick=\"convertToInteractive('df-054ccdb9-617c-41c5-a54e-eccaf15d79fe')\"\n",
              "              title=\"Convert this dataframe to an interactive table.\"\n",
              "              style=\"display:none;\">\n",
              "        \n",
              "  <svg xmlns=\"http://www.w3.org/2000/svg\" height=\"24px\"viewBox=\"0 0 24 24\"\n",
              "       width=\"24px\">\n",
              "    <path d=\"M0 0h24v24H0V0z\" fill=\"none\"/>\n",
              "    <path d=\"M18.56 5.44l.94 2.06.94-2.06 2.06-.94-2.06-.94-.94-2.06-.94 2.06-2.06.94zm-11 1L8.5 8.5l.94-2.06 2.06-.94-2.06-.94L8.5 2.5l-.94 2.06-2.06.94zm10 10l.94 2.06.94-2.06 2.06-.94-2.06-.94-.94-2.06-.94 2.06-2.06.94z\"/><path d=\"M17.41 7.96l-1.37-1.37c-.4-.4-.92-.59-1.43-.59-.52 0-1.04.2-1.43.59L10.3 9.45l-7.72 7.72c-.78.78-.78 2.05 0 2.83L4 21.41c.39.39.9.59 1.41.59.51 0 1.02-.2 1.41-.59l7.78-7.78 2.81-2.81c.8-.78.8-2.07 0-2.86zM5.41 20L4 18.59l7.72-7.72 1.47 1.35L5.41 20z\"/>\n",
              "  </svg>\n",
              "      </button>\n",
              "      \n",
              "  <style>\n",
              "    .colab-df-container {\n",
              "      display:flex;\n",
              "      flex-wrap:wrap;\n",
              "      gap: 12px;\n",
              "    }\n",
              "\n",
              "    .colab-df-convert {\n",
              "      background-color: #E8F0FE;\n",
              "      border: none;\n",
              "      border-radius: 50%;\n",
              "      cursor: pointer;\n",
              "      display: none;\n",
              "      fill: #1967D2;\n",
              "      height: 32px;\n",
              "      padding: 0 0 0 0;\n",
              "      width: 32px;\n",
              "    }\n",
              "\n",
              "    .colab-df-convert:hover {\n",
              "      background-color: #E2EBFA;\n",
              "      box-shadow: 0px 1px 2px rgba(60, 64, 67, 0.3), 0px 1px 3px 1px rgba(60, 64, 67, 0.15);\n",
              "      fill: #174EA6;\n",
              "    }\n",
              "\n",
              "    [theme=dark] .colab-df-convert {\n",
              "      background-color: #3B4455;\n",
              "      fill: #D2E3FC;\n",
              "    }\n",
              "\n",
              "    [theme=dark] .colab-df-convert:hover {\n",
              "      background-color: #434B5C;\n",
              "      box-shadow: 0px 1px 3px 1px rgba(0, 0, 0, 0.15);\n",
              "      filter: drop-shadow(0px 1px 2px rgba(0, 0, 0, 0.3));\n",
              "      fill: #FFFFFF;\n",
              "    }\n",
              "  </style>\n",
              "\n",
              "      <script>\n",
              "        const buttonEl =\n",
              "          document.querySelector('#df-054ccdb9-617c-41c5-a54e-eccaf15d79fe button.colab-df-convert');\n",
              "        buttonEl.style.display =\n",
              "          google.colab.kernel.accessAllowed ? 'block' : 'none';\n",
              "\n",
              "        async function convertToInteractive(key) {\n",
              "          const element = document.querySelector('#df-054ccdb9-617c-41c5-a54e-eccaf15d79fe');\n",
              "          const dataTable =\n",
              "            await google.colab.kernel.invokeFunction('convertToInteractive',\n",
              "                                                     [key], {});\n",
              "          if (!dataTable) return;\n",
              "\n",
              "          const docLinkHtml = 'Like what you see? Visit the ' +\n",
              "            '<a target=\"_blank\" href=https://colab.research.google.com/notebooks/data_table.ipynb>data table notebook</a>'\n",
              "            + ' to learn more about interactive tables.';\n",
              "          element.innerHTML = '';\n",
              "          dataTable['output_type'] = 'display_data';\n",
              "          await google.colab.output.renderOutput(dataTable, element);\n",
              "          const docLink = document.createElement('div');\n",
              "          docLink.innerHTML = docLinkHtml;\n",
              "          element.appendChild(docLink);\n",
              "        }\n",
              "      </script>\n",
              "    </div>\n",
              "  </div>\n",
              "  "
            ],
            "text/plain": [
              "                                         Nama_Tempat  ...             Label\n",
              "0                                   Raminten Kitchen  ...         Potential\n",
              "1                                      Legend Coffee  ...  Sangat Potential\n",
              "2       Harris Hotel & Conventions Gubeng - Surabaya  ...  Sangat Potential\n",
              "3  Lulu Hypermarket & Department Store - Plaza Taman  ...  Sangat Potential\n",
              "4                                     Mie Baso Akung  ...         Potential\n",
              "\n",
              "[5 rows x 27 columns]"
            ]
          },
          "metadata": {},
          "execution_count": 6
        }
      ],
      "source": [
        "df = pd.read_excel('Master.xlsx') #import dataset in google.colabs\n",
        "df.head(5)"
      ]
    },
    {
      "cell_type": "code",
      "execution_count": 7,
      "metadata": {
        "id": "7x_Iz3X-Ql_p"
      },
      "outputs": [],
      "source": [
        "#Hanya memanggil column yang dibutuhkan\n",
        "df = df[['Rating','Total_Reviews','Review_Relevan','SME_Data','Distance','Check_Web','Check_Telepon','Label']]\n",
        "df = df.dropna()"
      ]
    },
    {
      "cell_type": "code",
      "execution_count": 8,
      "metadata": {
        "id": "JbDbAorqq-wY",
        "outputId": "b13593dc-6abd-446a-b65f-5237176827ba",
        "colab": {
          "base_uri": "https://localhost:8080/",
          "height": 423
        }
      },
      "outputs": [
        {
          "output_type": "execute_result",
          "data": {
            "text/html": [
              "\n",
              "  <div id=\"df-53bfbb49-4d86-493a-b6d3-44a0f415f0f0\">\n",
              "    <div class=\"colab-df-container\">\n",
              "      <div>\n",
              "<style scoped>\n",
              "    .dataframe tbody tr th:only-of-type {\n",
              "        vertical-align: middle;\n",
              "    }\n",
              "\n",
              "    .dataframe tbody tr th {\n",
              "        vertical-align: top;\n",
              "    }\n",
              "\n",
              "    .dataframe thead th {\n",
              "        text-align: right;\n",
              "    }\n",
              "</style>\n",
              "<table border=\"1\" class=\"dataframe\">\n",
              "  <thead>\n",
              "    <tr style=\"text-align: right;\">\n",
              "      <th></th>\n",
              "      <th>Rating</th>\n",
              "      <th>Total_Reviews</th>\n",
              "      <th>Review_Relevan</th>\n",
              "      <th>SME_Data</th>\n",
              "      <th>Distance</th>\n",
              "      <th>Check_Web</th>\n",
              "      <th>Check_Telepon</th>\n",
              "      <th>Label</th>\n",
              "    </tr>\n",
              "  </thead>\n",
              "  <tbody>\n",
              "    <tr>\n",
              "      <th>0</th>\n",
              "      <td>4.3</td>\n",
              "      <td>9871</td>\n",
              "      <td>Sangat Terpenuhi</td>\n",
              "      <td>Kurang Lengkap</td>\n",
              "      <td>0.034237</td>\n",
              "      <td>No</td>\n",
              "      <td>Yes</td>\n",
              "      <td>Potential</td>\n",
              "    </tr>\n",
              "    <tr>\n",
              "      <th>1</th>\n",
              "      <td>4.4</td>\n",
              "      <td>9288</td>\n",
              "      <td>Sangat Terpenuhi</td>\n",
              "      <td>Sempurna</td>\n",
              "      <td>0.201196</td>\n",
              "      <td>Yes</td>\n",
              "      <td>Yes</td>\n",
              "      <td>Sangat Potential</td>\n",
              "    </tr>\n",
              "    <tr>\n",
              "      <th>2</th>\n",
              "      <td>4.5</td>\n",
              "      <td>9222</td>\n",
              "      <td>Sangat Terpenuhi</td>\n",
              "      <td>Sempurna</td>\n",
              "      <td>0.248499</td>\n",
              "      <td>Yes</td>\n",
              "      <td>Yes</td>\n",
              "      <td>Sangat Potential</td>\n",
              "    </tr>\n",
              "    <tr>\n",
              "      <th>3</th>\n",
              "      <td>4.5</td>\n",
              "      <td>9163</td>\n",
              "      <td>Sangat Terpenuhi</td>\n",
              "      <td>Sempurna</td>\n",
              "      <td>0.805086</td>\n",
              "      <td>Yes</td>\n",
              "      <td>Yes</td>\n",
              "      <td>Sangat Potential</td>\n",
              "    </tr>\n",
              "    <tr>\n",
              "      <th>4</th>\n",
              "      <td>4.5</td>\n",
              "      <td>8830</td>\n",
              "      <td>Terpenuhi</td>\n",
              "      <td>Sangat Kurang Lengkap</td>\n",
              "      <td>0.140069</td>\n",
              "      <td>No</td>\n",
              "      <td>Yes</td>\n",
              "      <td>Potential</td>\n",
              "    </tr>\n",
              "    <tr>\n",
              "      <th>...</th>\n",
              "      <td>...</td>\n",
              "      <td>...</td>\n",
              "      <td>...</td>\n",
              "      <td>...</td>\n",
              "      <td>...</td>\n",
              "      <td>...</td>\n",
              "      <td>...</td>\n",
              "      <td>...</td>\n",
              "    </tr>\n",
              "    <tr>\n",
              "      <th>5233</th>\n",
              "      <td>0.0</td>\n",
              "      <td>0</td>\n",
              "      <td>Kosong</td>\n",
              "      <td>Sangat Kurang Lengkap</td>\n",
              "      <td>7.434709</td>\n",
              "      <td>No</td>\n",
              "      <td>No</td>\n",
              "      <td>Tidak Potential</td>\n",
              "    </tr>\n",
              "    <tr>\n",
              "      <th>5234</th>\n",
              "      <td>0.0</td>\n",
              "      <td>0</td>\n",
              "      <td>Kosong</td>\n",
              "      <td>Sangat Kurang Lengkap</td>\n",
              "      <td>7.613547</td>\n",
              "      <td>No</td>\n",
              "      <td>Yes</td>\n",
              "      <td>Tidak Potential</td>\n",
              "    </tr>\n",
              "    <tr>\n",
              "      <th>5235</th>\n",
              "      <td>0.0</td>\n",
              "      <td>0</td>\n",
              "      <td>Kosong</td>\n",
              "      <td>Sangat Kurang Lengkap</td>\n",
              "      <td>8.149004</td>\n",
              "      <td>No</td>\n",
              "      <td>No</td>\n",
              "      <td>Tidak Potential</td>\n",
              "    </tr>\n",
              "    <tr>\n",
              "      <th>5236</th>\n",
              "      <td>0.0</td>\n",
              "      <td>0</td>\n",
              "      <td>Kosong</td>\n",
              "      <td>Sangat Kurang Lengkap</td>\n",
              "      <td>9.276120</td>\n",
              "      <td>No</td>\n",
              "      <td>No</td>\n",
              "      <td>Tidak Potential</td>\n",
              "    </tr>\n",
              "    <tr>\n",
              "      <th>5237</th>\n",
              "      <td>0.0</td>\n",
              "      <td>0</td>\n",
              "      <td>Kosong</td>\n",
              "      <td>Sangat Kurang Lengkap</td>\n",
              "      <td>10.718003</td>\n",
              "      <td>No</td>\n",
              "      <td>Yes</td>\n",
              "      <td>Tidak Potential</td>\n",
              "    </tr>\n",
              "  </tbody>\n",
              "</table>\n",
              "<p>5238 rows × 8 columns</p>\n",
              "</div>\n",
              "      <button class=\"colab-df-convert\" onclick=\"convertToInteractive('df-53bfbb49-4d86-493a-b6d3-44a0f415f0f0')\"\n",
              "              title=\"Convert this dataframe to an interactive table.\"\n",
              "              style=\"display:none;\">\n",
              "        \n",
              "  <svg xmlns=\"http://www.w3.org/2000/svg\" height=\"24px\"viewBox=\"0 0 24 24\"\n",
              "       width=\"24px\">\n",
              "    <path d=\"M0 0h24v24H0V0z\" fill=\"none\"/>\n",
              "    <path d=\"M18.56 5.44l.94 2.06.94-2.06 2.06-.94-2.06-.94-.94-2.06-.94 2.06-2.06.94zm-11 1L8.5 8.5l.94-2.06 2.06-.94-2.06-.94L8.5 2.5l-.94 2.06-2.06.94zm10 10l.94 2.06.94-2.06 2.06-.94-2.06-.94-.94-2.06-.94 2.06-2.06.94z\"/><path d=\"M17.41 7.96l-1.37-1.37c-.4-.4-.92-.59-1.43-.59-.52 0-1.04.2-1.43.59L10.3 9.45l-7.72 7.72c-.78.78-.78 2.05 0 2.83L4 21.41c.39.39.9.59 1.41.59.51 0 1.02-.2 1.41-.59l7.78-7.78 2.81-2.81c.8-.78.8-2.07 0-2.86zM5.41 20L4 18.59l7.72-7.72 1.47 1.35L5.41 20z\"/>\n",
              "  </svg>\n",
              "      </button>\n",
              "      \n",
              "  <style>\n",
              "    .colab-df-container {\n",
              "      display:flex;\n",
              "      flex-wrap:wrap;\n",
              "      gap: 12px;\n",
              "    }\n",
              "\n",
              "    .colab-df-convert {\n",
              "      background-color: #E8F0FE;\n",
              "      border: none;\n",
              "      border-radius: 50%;\n",
              "      cursor: pointer;\n",
              "      display: none;\n",
              "      fill: #1967D2;\n",
              "      height: 32px;\n",
              "      padding: 0 0 0 0;\n",
              "      width: 32px;\n",
              "    }\n",
              "\n",
              "    .colab-df-convert:hover {\n",
              "      background-color: #E2EBFA;\n",
              "      box-shadow: 0px 1px 2px rgba(60, 64, 67, 0.3), 0px 1px 3px 1px rgba(60, 64, 67, 0.15);\n",
              "      fill: #174EA6;\n",
              "    }\n",
              "\n",
              "    [theme=dark] .colab-df-convert {\n",
              "      background-color: #3B4455;\n",
              "      fill: #D2E3FC;\n",
              "    }\n",
              "\n",
              "    [theme=dark] .colab-df-convert:hover {\n",
              "      background-color: #434B5C;\n",
              "      box-shadow: 0px 1px 3px 1px rgba(0, 0, 0, 0.15);\n",
              "      filter: drop-shadow(0px 1px 2px rgba(0, 0, 0, 0.3));\n",
              "      fill: #FFFFFF;\n",
              "    }\n",
              "  </style>\n",
              "\n",
              "      <script>\n",
              "        const buttonEl =\n",
              "          document.querySelector('#df-53bfbb49-4d86-493a-b6d3-44a0f415f0f0 button.colab-df-convert');\n",
              "        buttonEl.style.display =\n",
              "          google.colab.kernel.accessAllowed ? 'block' : 'none';\n",
              "\n",
              "        async function convertToInteractive(key) {\n",
              "          const element = document.querySelector('#df-53bfbb49-4d86-493a-b6d3-44a0f415f0f0');\n",
              "          const dataTable =\n",
              "            await google.colab.kernel.invokeFunction('convertToInteractive',\n",
              "                                                     [key], {});\n",
              "          if (!dataTable) return;\n",
              "\n",
              "          const docLinkHtml = 'Like what you see? Visit the ' +\n",
              "            '<a target=\"_blank\" href=https://colab.research.google.com/notebooks/data_table.ipynb>data table notebook</a>'\n",
              "            + ' to learn more about interactive tables.';\n",
              "          element.innerHTML = '';\n",
              "          dataTable['output_type'] = 'display_data';\n",
              "          await google.colab.output.renderOutput(dataTable, element);\n",
              "          const docLink = document.createElement('div');\n",
              "          docLink.innerHTML = docLinkHtml;\n",
              "          element.appendChild(docLink);\n",
              "        }\n",
              "      </script>\n",
              "    </div>\n",
              "  </div>\n",
              "  "
            ],
            "text/plain": [
              "      Rating  Total_Reviews  ... Check_Telepon             Label\n",
              "0        4.3           9871  ...           Yes         Potential\n",
              "1        4.4           9288  ...           Yes  Sangat Potential\n",
              "2        4.5           9222  ...           Yes  Sangat Potential\n",
              "3        4.5           9163  ...           Yes  Sangat Potential\n",
              "4        4.5           8830  ...           Yes         Potential\n",
              "...      ...            ...  ...           ...               ...\n",
              "5233     0.0              0  ...            No   Tidak Potential\n",
              "5234     0.0              0  ...           Yes   Tidak Potential\n",
              "5235     0.0              0  ...            No   Tidak Potential\n",
              "5236     0.0              0  ...            No   Tidak Potential\n",
              "5237     0.0              0  ...           Yes   Tidak Potential\n",
              "\n",
              "[5238 rows x 8 columns]"
            ]
          },
          "metadata": {},
          "execution_count": 8
        }
      ],
      "source": [
        "df"
      ]
    },
    {
      "cell_type": "code",
      "execution_count": 9,
      "metadata": {
        "id": "TQOCx8IORfuM",
        "outputId": "ed490976-e5f5-4176-c991-b2b53f02e2b7",
        "colab": {
          "base_uri": "https://localhost:8080/",
          "height": 0
        }
      },
      "outputs": [
        {
          "output_type": "stream",
          "name": "stdout",
          "text": [
            "<class 'pandas.core.frame.DataFrame'>\n",
            "Int64Index: 5238 entries, 0 to 5237\n",
            "Data columns (total 8 columns):\n",
            " #   Column          Non-Null Count  Dtype  \n",
            "---  ------          --------------  -----  \n",
            " 0   Rating          5238 non-null   float64\n",
            " 1   Total_Reviews   5238 non-null   int64  \n",
            " 2   Review_Relevan  5238 non-null   object \n",
            " 3   SME_Data        5238 non-null   object \n",
            " 4   Distance        5238 non-null   float64\n",
            " 5   Check_Web       5238 non-null   object \n",
            " 6   Check_Telepon   5238 non-null   object \n",
            " 7   Label           5238 non-null   object \n",
            "dtypes: float64(2), int64(1), object(5)\n",
            "memory usage: 368.3+ KB\n"
          ]
        }
      ],
      "source": [
        "#df.info() will gather how many rows of each column that contains a null and the datatype of each column.\n",
        "df.info()"
      ]
    },
    {
      "cell_type": "code",
      "execution_count": 10,
      "metadata": {
        "id": "CVd-NJvxQl_r",
        "outputId": "792529bc-0cc5-4ed2-c477-215ddbe5f3bf",
        "colab": {
          "base_uri": "https://localhost:8080/",
          "height": 0
        }
      },
      "outputs": [
        {
          "output_type": "execute_result",
          "data": {
            "text/plain": [
              "Rating            False\n",
              "Total_Reviews     False\n",
              "Review_Relevan    False\n",
              "SME_Data          False\n",
              "Distance          False\n",
              "Check_Web         False\n",
              "Check_Telepon     False\n",
              "Label             False\n",
              "dtype: bool"
            ]
          },
          "metadata": {},
          "execution_count": 10
        }
      ],
      "source": [
        "#.isnull().sum() used for knowing how many null in each column.\n",
        "df.isnull().any()"
      ]
    },
    {
      "cell_type": "code",
      "execution_count": 11,
      "metadata": {
        "id": "oiLlpqOG3G1r",
        "outputId": "ad0a83ef-23a9-498d-ecab-792ad2ec5fbc",
        "colab": {
          "base_uri": "https://localhost:8080/",
          "height": 0
        }
      },
      "outputs": [
        {
          "output_type": "execute_result",
          "data": {
            "text/plain": [
              "array([4.3, 4.4, 4.5, 4.6, 4.2, 4.1, 4.7, 3.8, 4. , 4.8, 2.3, 3.9, 3.6,\n",
              "       3.7, 4.9, 2.9, 1.9, 5. , 3.5, 3.1, 2.8, 2.6, 3.3, 3.4, 2.7, 2.2,\n",
              "       3.2, 3. , 2.5, 1.8, 2. , 1.7, 1. , 0. ])"
            ]
          },
          "metadata": {},
          "execution_count": 11
        }
      ],
      "source": [
        "pd.unique(df[['Rating']].values.ravel())\n",
        "#.ravel()-->return 1D array with all the input-array elements"
      ]
    },
    {
      "cell_type": "markdown",
      "metadata": {
        "id": "5Sh6Bff73JXG"
      },
      "source": [
        "\n",
        "*   Yes all Avg. rating values is in between 0 <= ratings <= 5"
      ]
    },
    {
      "cell_type": "markdown",
      "metadata": {
        "id": "RAXSzBSZQl_r"
      },
      "source": [
        "# **4. EDA**"
      ]
    },
    {
      "cell_type": "markdown",
      "metadata": {
        "id": "lCPZ87QcZ0Wc"
      },
      "source": [
        "## **4.1 Univariate Analysis**\n",
        "Univariate Analysis is analyzing through singular column\n"
      ]
    },
    {
      "cell_type": "markdown",
      "metadata": {
        "id": "Wqz29bhwxTgt"
      },
      "source": [
        "### 4.1.1. Continous Variable\n",
        "\n",
        "Fungsi otomatis menghitung **statistika deskriptif** untuk semua variabel kontinu. Dalam statistik ini nilai NaN otomatis dihilangkan. </p>\n",
        "\n",
        "Akan ditampilkan:\n",
        "<ul>\n",
        "    <li>banyaknya observasi dalam variabel</li>\n",
        "    <li>rataan</li>\n",
        "    <li>standar deviasi (std)</li> \n",
        "    <li>nilai minimum</li>\n",
        "    <li>IQR (Interquartile Range: 25%, 50% dan 75%)</li>\n",
        "    <li>nilai maksimum</li>\n",
        "<ul>"
      ]
    },
    {
      "cell_type": "code",
      "execution_count": 12,
      "metadata": {
        "id": "6XZfCQE2xTgu",
        "outputId": "960f6e06-7850-46ae-e2d8-6367d11b8e60",
        "colab": {
          "base_uri": "https://localhost:8080/",
          "height": 300
        }
      },
      "outputs": [
        {
          "output_type": "execute_result",
          "data": {
            "text/html": [
              "\n",
              "  <div id=\"df-c421eace-42c0-4168-a4e5-a3b6287ea3d5\">\n",
              "    <div class=\"colab-df-container\">\n",
              "      <div>\n",
              "<style scoped>\n",
              "    .dataframe tbody tr th:only-of-type {\n",
              "        vertical-align: middle;\n",
              "    }\n",
              "\n",
              "    .dataframe tbody tr th {\n",
              "        vertical-align: top;\n",
              "    }\n",
              "\n",
              "    .dataframe thead th {\n",
              "        text-align: right;\n",
              "    }\n",
              "</style>\n",
              "<table border=\"1\" class=\"dataframe\">\n",
              "  <thead>\n",
              "    <tr style=\"text-align: right;\">\n",
              "      <th></th>\n",
              "      <th>Rating</th>\n",
              "      <th>Total_Reviews</th>\n",
              "      <th>Distance</th>\n",
              "    </tr>\n",
              "  </thead>\n",
              "  <tbody>\n",
              "    <tr>\n",
              "      <th>count</th>\n",
              "      <td>5238.000000</td>\n",
              "      <td>5238.000000</td>\n",
              "      <td>5238.000000</td>\n",
              "    </tr>\n",
              "    <tr>\n",
              "      <th>mean</th>\n",
              "      <td>3.519645</td>\n",
              "      <td>296.379534</td>\n",
              "      <td>0.956106</td>\n",
              "    </tr>\n",
              "    <tr>\n",
              "      <th>std</th>\n",
              "      <td>1.819150</td>\n",
              "      <td>881.320082</td>\n",
              "      <td>1.082644</td>\n",
              "    </tr>\n",
              "    <tr>\n",
              "      <th>min</th>\n",
              "      <td>0.000000</td>\n",
              "      <td>0.000000</td>\n",
              "      <td>0.015588</td>\n",
              "    </tr>\n",
              "    <tr>\n",
              "      <th>25%</th>\n",
              "      <td>3.700000</td>\n",
              "      <td>1.000000</td>\n",
              "      <td>0.365166</td>\n",
              "    </tr>\n",
              "    <tr>\n",
              "      <th>50%</th>\n",
              "      <td>4.400000</td>\n",
              "      <td>15.000000</td>\n",
              "      <td>0.610671</td>\n",
              "    </tr>\n",
              "    <tr>\n",
              "      <th>75%</th>\n",
              "      <td>4.600000</td>\n",
              "      <td>140.750000</td>\n",
              "      <td>1.090513</td>\n",
              "    </tr>\n",
              "    <tr>\n",
              "      <th>max</th>\n",
              "      <td>5.000000</td>\n",
              "      <td>9871.000000</td>\n",
              "      <td>10.768379</td>\n",
              "    </tr>\n",
              "  </tbody>\n",
              "</table>\n",
              "</div>\n",
              "      <button class=\"colab-df-convert\" onclick=\"convertToInteractive('df-c421eace-42c0-4168-a4e5-a3b6287ea3d5')\"\n",
              "              title=\"Convert this dataframe to an interactive table.\"\n",
              "              style=\"display:none;\">\n",
              "        \n",
              "  <svg xmlns=\"http://www.w3.org/2000/svg\" height=\"24px\"viewBox=\"0 0 24 24\"\n",
              "       width=\"24px\">\n",
              "    <path d=\"M0 0h24v24H0V0z\" fill=\"none\"/>\n",
              "    <path d=\"M18.56 5.44l.94 2.06.94-2.06 2.06-.94-2.06-.94-.94-2.06-.94 2.06-2.06.94zm-11 1L8.5 8.5l.94-2.06 2.06-.94-2.06-.94L8.5 2.5l-.94 2.06-2.06.94zm10 10l.94 2.06.94-2.06 2.06-.94-2.06-.94-.94-2.06-.94 2.06-2.06.94z\"/><path d=\"M17.41 7.96l-1.37-1.37c-.4-.4-.92-.59-1.43-.59-.52 0-1.04.2-1.43.59L10.3 9.45l-7.72 7.72c-.78.78-.78 2.05 0 2.83L4 21.41c.39.39.9.59 1.41.59.51 0 1.02-.2 1.41-.59l7.78-7.78 2.81-2.81c.8-.78.8-2.07 0-2.86zM5.41 20L4 18.59l7.72-7.72 1.47 1.35L5.41 20z\"/>\n",
              "  </svg>\n",
              "      </button>\n",
              "      \n",
              "  <style>\n",
              "    .colab-df-container {\n",
              "      display:flex;\n",
              "      flex-wrap:wrap;\n",
              "      gap: 12px;\n",
              "    }\n",
              "\n",
              "    .colab-df-convert {\n",
              "      background-color: #E8F0FE;\n",
              "      border: none;\n",
              "      border-radius: 50%;\n",
              "      cursor: pointer;\n",
              "      display: none;\n",
              "      fill: #1967D2;\n",
              "      height: 32px;\n",
              "      padding: 0 0 0 0;\n",
              "      width: 32px;\n",
              "    }\n",
              "\n",
              "    .colab-df-convert:hover {\n",
              "      background-color: #E2EBFA;\n",
              "      box-shadow: 0px 1px 2px rgba(60, 64, 67, 0.3), 0px 1px 3px 1px rgba(60, 64, 67, 0.15);\n",
              "      fill: #174EA6;\n",
              "    }\n",
              "\n",
              "    [theme=dark] .colab-df-convert {\n",
              "      background-color: #3B4455;\n",
              "      fill: #D2E3FC;\n",
              "    }\n",
              "\n",
              "    [theme=dark] .colab-df-convert:hover {\n",
              "      background-color: #434B5C;\n",
              "      box-shadow: 0px 1px 3px 1px rgba(0, 0, 0, 0.15);\n",
              "      filter: drop-shadow(0px 1px 2px rgba(0, 0, 0, 0.3));\n",
              "      fill: #FFFFFF;\n",
              "    }\n",
              "  </style>\n",
              "\n",
              "      <script>\n",
              "        const buttonEl =\n",
              "          document.querySelector('#df-c421eace-42c0-4168-a4e5-a3b6287ea3d5 button.colab-df-convert');\n",
              "        buttonEl.style.display =\n",
              "          google.colab.kernel.accessAllowed ? 'block' : 'none';\n",
              "\n",
              "        async function convertToInteractive(key) {\n",
              "          const element = document.querySelector('#df-c421eace-42c0-4168-a4e5-a3b6287ea3d5');\n",
              "          const dataTable =\n",
              "            await google.colab.kernel.invokeFunction('convertToInteractive',\n",
              "                                                     [key], {});\n",
              "          if (!dataTable) return;\n",
              "\n",
              "          const docLinkHtml = 'Like what you see? Visit the ' +\n",
              "            '<a target=\"_blank\" href=https://colab.research.google.com/notebooks/data_table.ipynb>data table notebook</a>'\n",
              "            + ' to learn more about interactive tables.';\n",
              "          element.innerHTML = '';\n",
              "          dataTable['output_type'] = 'display_data';\n",
              "          await google.colab.output.renderOutput(dataTable, element);\n",
              "          const docLink = document.createElement('div');\n",
              "          docLink.innerHTML = docLinkHtml;\n",
              "          element.appendChild(docLink);\n",
              "        }\n",
              "      </script>\n",
              "    </div>\n",
              "  </div>\n",
              "  "
            ],
            "text/plain": [
              "            Rating  Total_Reviews     Distance\n",
              "count  5238.000000    5238.000000  5238.000000\n",
              "mean      3.519645     296.379534     0.956106\n",
              "std       1.819150     881.320082     1.082644\n",
              "min       0.000000       0.000000     0.015588\n",
              "25%       3.700000       1.000000     0.365166\n",
              "50%       4.400000      15.000000     0.610671\n",
              "75%       4.600000     140.750000     1.090513\n",
              "max       5.000000    9871.000000    10.768379"
            ]
          },
          "metadata": {},
          "execution_count": 12
        }
      ],
      "source": [
        "df.describe()"
      ]
    },
    {
      "cell_type": "markdown",
      "metadata": {
        "id": "n-RHhp_NxTgu"
      },
      "source": [
        "#### **Bar Plot dan Scatter Plot**\n",
        "Bar Plot digunakan pada data univariat untuk mengetahui distribusi data, ditunjukkan pada diagram di diagonal utama.\n",
        "\n",
        "Scatter Plot digunakan untuk mengetahui hubungan linear 2 variabel, ditunjukkan pada diagram lainnya."
      ]
    },
    {
      "cell_type": "code",
      "source": [
        "pd.plotting.scatter_matrix(df,figsize=(15,9))"
      ],
      "metadata": {
        "colab": {
          "base_uri": "https://localhost:8080/",
          "height": 751
        },
        "id": "xFsfbRX7aFM6",
        "outputId": "199491db-d761-40d9-fdf2-b6581764969c"
      },
      "execution_count": 13,
      "outputs": [
        {
          "output_type": "execute_result",
          "data": {
            "text/plain": [
              "array([[<matplotlib.axes._subplots.AxesSubplot object at 0x7f2d3e2d1890>,\n",
              "        <matplotlib.axes._subplots.AxesSubplot object at 0x7f2d3e0c1150>,\n",
              "        <matplotlib.axes._subplots.AxesSubplot object at 0x7f2d3e1a03d0>],\n",
              "       [<matplotlib.axes._subplots.AxesSubplot object at 0x7f2d3e0e59d0>,\n",
              "        <matplotlib.axes._subplots.AxesSubplot object at 0x7f2d3e1cabd0>,\n",
              "        <matplotlib.axes._subplots.AxesSubplot object at 0x7f2d3e14a610>],\n",
              "       [<matplotlib.axes._subplots.AxesSubplot object at 0x7f2d3e208c10>,\n",
              "        <matplotlib.axes._subplots.AxesSubplot object at 0x7f2d3dfeb250>,\n",
              "        <matplotlib.axes._subplots.AxesSubplot object at 0x7f2d3dff3390>]],\n",
              "      dtype=object)"
            ]
          },
          "metadata": {},
          "execution_count": 13
        },
        {
          "output_type": "display_data",
          "data": {
            "image/png": "[encoded data removed]",
            "text/plain": [
              "<Figure size 1080x648 with 9 Axes>"
            ]
          },
          "metadata": {
            "needs_background": "light"
          }
        }
      ]
    },
    {
      "cell_type": "code",
      "source": [
        "corr_all=df.corr(method='spearman')\n",
        "fig, ax = plt.subplots(figsize=(7,5))         # Sample figsize in inches\n",
        "\n",
        "sns.heatmap(corr_all, cmap=\"Blues\", annot=True,ax=ax)"
      ],
      "metadata": {
        "colab": {
          "base_uri": "https://localhost:8080/",
          "height": 343
        },
        "id": "tj9Is8rgayg1",
        "outputId": "733e07dd-019d-47f0-be86-f97ffbeb8785"
      },
      "execution_count": 14,
      "outputs": [
        {
          "output_type": "execute_result",
          "data": {
            "text/plain": [
              "<matplotlib.axes._subplots.AxesSubplot at 0x7f2d3dd8c190>"
            ]
          },
          "metadata": {},
          "execution_count": 14
        },
        {
          "output_type": "display_data",
          "data": {
            "image/png": "[encoded data removed]",
            "text/plain": [
              "<Figure size 504x360 with 2 Axes>"
            ]
          },
          "metadata": {
            "needs_background": "light"
          }
        }
      ]
    },
    {
      "cell_type": "markdown",
      "metadata": {
        "id": "wSIQ5vysZ7NF"
      },
      "source": [
        "##### **Boxplot Graph**\n",
        "Boxplot graph is used to know the outliers of each column"
      ]
    },
    {
      "cell_type": "code",
      "execution_count": 15,
      "metadata": {
        "id": "MZIIVaKTaQp8",
        "outputId": "2d0d57cb-747c-431d-b4b8-a62e0a633b39",
        "colab": {
          "base_uri": "https://localhost:8080/",
          "height": 480
        }
      },
      "outputs": [
        {
          "output_type": "display_data",
          "data": {
            "image/png": "[encoded data removed]",
            "text/plain": [
              "<Figure size 1296x432 with 3 Axes>"
            ]
          },
          "metadata": {
            "needs_background": "light"
          }
        }
      ],
      "source": [
        "fig, ax = plt.subplots(1, 3, figsize=(18, 6))\n",
        "\n",
        "sns.boxplot(data=df, y=\"Rating\", ax=ax[0])\n",
        "sns.boxplot(data=df, y=\"Total_Reviews\", ax=ax[1])\n",
        "sns.boxplot(data=df, y=\"Distance\", ax=ax[2])\n",
        "\n",
        "col = [\"Rating\", \"Total_Reviews\", \"Distance\"]\n",
        "for i in range(3) : \n",
        "    ax[i].grid(axis='y', alpha=0.3,)\n",
        "    ax[i].set_axisbelow(True)\n",
        "    ax[i].spines['right'].set_visible(False)\n",
        "    ax[i].spines['left'].set_visible(False)\n",
        "    ax[i].spines['top'].set_visible(False)\n",
        "    ax[i].set_title(col[i])\n",
        "    ax[i].tick_params(labelsize=12)\n",
        "    ax[i].set_ylabel(col[i], fontsize=14, labelpad=10, fontweight='bold')\n",
        "\n",
        "\n",
        "plt.suptitle(\"Persebaran data\\n\", ha='center', va='center', x=0.5, y=1.02, fontsize=18, fontweight='bold')\n",
        "plt.tight_layout()\n",
        "plt.show()"
      ]
    },
    {
      "cell_type": "markdown",
      "metadata": {
        "id": "uR96NQTJxTgx"
      },
      "source": [
        "Dari ketiga variabel kontinu yaitu Rating, Total_Reviews, dan Distance diperoleh informasi bahwa :\n",
        "\n",
        "- Rata-rata rating sebesar 3.5, Total Review adalah 296.379, dan Distance sebesar 0.956\n",
        "- Dari bar plot diperoleh bahwa nilai Distance menumpuk pada rentang [0,1), Rating paling banyak pada selang (4.5,5], dan Total_Reviews yang menumpuk pada rentang [0,1000)\n",
        "- Dari bar plot juga terlihat bahwa distribusi Distance dan Total_Reviews menceng ke kanan artinya data menumpuk di nilai yang kecil dan distribusi Rating menceng ke kiri artinya data menumpuk di nilai yang besar\n",
        "- Dari scatter plot diperoleh hubungan 2 variabel antara Distance, Total_Reviews, dan Rating tidak ada yang memiliki hubungan linear. Hubungan linear variabel Total_Reviews dan Rating cenderung positif, serta Total_Reviews dan Distance cenderung berhubungan linear negatif, sedangkan variabel Distance dan Rating tidak memiliki hubungan linear.\n",
        "- Dalam boxplot dapat dilihat bahwa ketiga variabel memiliki nilai pencilan yang ekstrem, terutama pada variabel Total_Reviews. Namun nilai pencilan tidak dihapus karena akan menghilangkan esensi data asli dan berdampak pada identifikasi label dan point SME"
      ]
    },
    {
      "cell_type": "markdown",
      "metadata": {
        "id": "yU6QDAtBxTgx"
      },
      "source": [
        "### 4.1.2. Categorical Variable\n",
        "\n",
        "Gunakan metode \"describe\" pada variabel tipe 'object' / kategorikal. Sehingga fungsi mengeluarkan statistik : </p>\n",
        "\n",
        "<ul>\n",
        "    <li>banyaknya observasi dalam variabel</li>\n",
        "    <li>banyaknya kategori unik</li>\n",
        "    <li>kategori yang paling sering muncul</li> \n",
        "    <li>frekuensi dari top kategori</li>\n",
        "<ul>"
      ]
    },
    {
      "cell_type": "code",
      "execution_count": 16,
      "metadata": {
        "id": "6bj_VvB-xTgy",
        "outputId": "d7045fe7-2c30-40dc-df7d-97cc3866c030",
        "colab": {
          "base_uri": "https://localhost:8080/",
          "height": 174
        }
      },
      "outputs": [
        {
          "output_type": "execute_result",
          "data": {
            "text/html": [
              "\n",
              "  <div id=\"df-058db678-ad1c-45ed-b285-b03f4d50fb17\">\n",
              "    <div class=\"colab-df-container\">\n",
              "      <div>\n",
              "<style scoped>\n",
              "    .dataframe tbody tr th:only-of-type {\n",
              "        vertical-align: middle;\n",
              "    }\n",
              "\n",
              "    .dataframe tbody tr th {\n",
              "        vertical-align: top;\n",
              "    }\n",
              "\n",
              "    .dataframe thead th {\n",
              "        text-align: right;\n",
              "    }\n",
              "</style>\n",
              "<table border=\"1\" class=\"dataframe\">\n",
              "  <thead>\n",
              "    <tr style=\"text-align: right;\">\n",
              "      <th></th>\n",
              "      <th>Review_Relevan</th>\n",
              "      <th>SME_Data</th>\n",
              "      <th>Check_Web</th>\n",
              "      <th>Check_Telepon</th>\n",
              "      <th>Label</th>\n",
              "    </tr>\n",
              "  </thead>\n",
              "  <tbody>\n",
              "    <tr>\n",
              "      <th>count</th>\n",
              "      <td>5238</td>\n",
              "      <td>5238</td>\n",
              "      <td>5238</td>\n",
              "      <td>5238</td>\n",
              "      <td>5238</td>\n",
              "    </tr>\n",
              "    <tr>\n",
              "      <th>unique</th>\n",
              "      <td>3</td>\n",
              "      <td>3</td>\n",
              "      <td>2</td>\n",
              "      <td>2</td>\n",
              "      <td>3</td>\n",
              "    </tr>\n",
              "    <tr>\n",
              "      <th>top</th>\n",
              "      <td>Kosong</td>\n",
              "      <td>Sangat Kurang Lengkap</td>\n",
              "      <td>No</td>\n",
              "      <td>Yes</td>\n",
              "      <td>Potential</td>\n",
              "    </tr>\n",
              "    <tr>\n",
              "      <th>freq</th>\n",
              "      <td>3207</td>\n",
              "      <td>1958</td>\n",
              "      <td>3670</td>\n",
              "      <td>3953</td>\n",
              "      <td>1976</td>\n",
              "    </tr>\n",
              "  </tbody>\n",
              "</table>\n",
              "</div>\n",
              "      <button class=\"colab-df-convert\" onclick=\"convertToInteractive('df-058db678-ad1c-45ed-b285-b03f4d50fb17')\"\n",
              "              title=\"Convert this dataframe to an interactive table.\"\n",
              "              style=\"display:none;\">\n",
              "        \n",
              "  <svg xmlns=\"http://www.w3.org/2000/svg\" height=\"24px\"viewBox=\"0 0 24 24\"\n",
              "       width=\"24px\">\n",
              "    <path d=\"M0 0h24v24H0V0z\" fill=\"none\"/>\n",
              "    <path d=\"M18.56 5.44l.94 2.06.94-2.06 2.06-.94-2.06-.94-.94-2.06-.94 2.06-2.06.94zm-11 1L8.5 8.5l.94-2.06 2.06-.94-2.06-.94L8.5 2.5l-.94 2.06-2.06.94zm10 10l.94 2.06.94-2.06 2.06-.94-2.06-.94-.94-2.06-.94 2.06-2.06.94z\"/><path d=\"M17.41 7.96l-1.37-1.37c-.4-.4-.92-.59-1.43-.59-.52 0-1.04.2-1.43.59L10.3 9.45l-7.72 7.72c-.78.78-.78 2.05 0 2.83L4 21.41c.39.39.9.59 1.41.59.51 0 1.02-.2 1.41-.59l7.78-7.78 2.81-2.81c.8-.78.8-2.07 0-2.86zM5.41 20L4 18.59l7.72-7.72 1.47 1.35L5.41 20z\"/>\n",
              "  </svg>\n",
              "      </button>\n",
              "      \n",
              "  <style>\n",
              "    .colab-df-container {\n",
              "      display:flex;\n",
              "      flex-wrap:wrap;\n",
              "      gap: 12px;\n",
              "    }\n",
              "\n",
              "    .colab-df-convert {\n",
              "      background-color: #E8F0FE;\n",
              "      border: none;\n",
              "      border-radius: 50%;\n",
              "      cursor: pointer;\n",
              "      display: none;\n",
              "      fill: #1967D2;\n",
              "      height: 32px;\n",
              "      padding: 0 0 0 0;\n",
              "      width: 32px;\n",
              "    }\n",
              "\n",
              "    .colab-df-convert:hover {\n",
              "      background-color: #E2EBFA;\n",
              "      box-shadow: 0px 1px 2px rgba(60, 64, 67, 0.3), 0px 1px 3px 1px rgba(60, 64, 67, 0.15);\n",
              "      fill: #174EA6;\n",
              "    }\n",
              "\n",
              "    [theme=dark] .colab-df-convert {\n",
              "      background-color: #3B4455;\n",
              "      fill: #D2E3FC;\n",
              "    }\n",
              "\n",
              "    [theme=dark] .colab-df-convert:hover {\n",
              "      background-color: #434B5C;\n",
              "      box-shadow: 0px 1px 3px 1px rgba(0, 0, 0, 0.15);\n",
              "      filter: drop-shadow(0px 1px 2px rgba(0, 0, 0, 0.3));\n",
              "      fill: #FFFFFF;\n",
              "    }\n",
              "  </style>\n",
              "\n",
              "      <script>\n",
              "        const buttonEl =\n",
              "          document.querySelector('#df-058db678-ad1c-45ed-b285-b03f4d50fb17 button.colab-df-convert');\n",
              "        buttonEl.style.display =\n",
              "          google.colab.kernel.accessAllowed ? 'block' : 'none';\n",
              "\n",
              "        async function convertToInteractive(key) {\n",
              "          const element = document.querySelector('#df-058db678-ad1c-45ed-b285-b03f4d50fb17');\n",
              "          const dataTable =\n",
              "            await google.colab.kernel.invokeFunction('convertToInteractive',\n",
              "                                                     [key], {});\n",
              "          if (!dataTable) return;\n",
              "\n",
              "          const docLinkHtml = 'Like what you see? Visit the ' +\n",
              "            '<a target=\"_blank\" href=https://colab.research.google.com/notebooks/data_table.ipynb>data table notebook</a>'\n",
              "            + ' to learn more about interactive tables.';\n",
              "          element.innerHTML = '';\n",
              "          dataTable['output_type'] = 'display_data';\n",
              "          await google.colab.output.renderOutput(dataTable, element);\n",
              "          const docLink = document.createElement('div');\n",
              "          docLink.innerHTML = docLinkHtml;\n",
              "          element.appendChild(docLink);\n",
              "        }\n",
              "      </script>\n",
              "    </div>\n",
              "  </div>\n",
              "  "
            ],
            "text/plain": [
              "       Review_Relevan               SME_Data Check_Web Check_Telepon      Label\n",
              "count            5238                   5238      5238          5238       5238\n",
              "unique              3                      3         2             2          3\n",
              "top            Kosong  Sangat Kurang Lengkap        No           Yes  Potential\n",
              "freq             3207                   1958      3670          3953       1976"
            ]
          },
          "metadata": {},
          "execution_count": 16
        }
      ],
      "source": [
        "df.describe(include=['object'])"
      ]
    },
    {
      "cell_type": "markdown",
      "metadata": {
        "id": "SZehjlGLQl_r"
      },
      "source": [
        "#### **Label Distribution**\n",
        "untuk variabel kategorikal Review_Relevan, SME_Data, Check_Web, dan Check_Telepon"
      ]
    },
    {
      "cell_type": "code",
      "execution_count": 17,
      "metadata": {
        "id": "o-KMSFmrQl_s",
        "outputId": "0c7f55f3-505a-4792-c519-34ab508aeaa7",
        "colab": {
          "base_uri": "https://localhost:8080/",
          "height": 628
        }
      },
      "outputs": [
        {
          "output_type": "stream",
          "name": "stderr",
          "text": [
            "/usr/local/lib/python3.7/dist-packages/seaborn/_decorators.py:43: FutureWarning: Pass the following variable as a keyword arg: x. From version 0.12, the only valid positional argument will be `data`, and passing other arguments without an explicit keyword will result in an error or misinterpretation.\n",
            "  FutureWarning\n",
            "/usr/local/lib/python3.7/dist-packages/seaborn/_decorators.py:43: FutureWarning: Pass the following variable as a keyword arg: x. From version 0.12, the only valid positional argument will be `data`, and passing other arguments without an explicit keyword will result in an error or misinterpretation.\n",
            "  FutureWarning\n",
            "/usr/local/lib/python3.7/dist-packages/seaborn/_decorators.py:43: FutureWarning: Pass the following variable as a keyword arg: x. From version 0.12, the only valid positional argument will be `data`, and passing other arguments without an explicit keyword will result in an error or misinterpretation.\n",
            "  FutureWarning\n",
            "/usr/local/lib/python3.7/dist-packages/seaborn/_decorators.py:43: FutureWarning: Pass the following variable as a keyword arg: x. From version 0.12, the only valid positional argument will be `data`, and passing other arguments without an explicit keyword will result in an error or misinterpretation.\n",
            "  FutureWarning\n"
          ]
        },
        {
          "output_type": "display_data",
          "data": {
            "image/png": "[encoded data removed]",
            "text/plain": [
              "<Figure size 1152x432 with 4 Axes>"
            ]
          },
          "metadata": {
            "needs_background": "light"
          }
        }
      ],
      "source": [
        "fig, ax = plt.subplots(1, 4, figsize=(16, 6))\n",
        "\n",
        "sns.countplot(df.Review_Relevan, ax=ax[0])\n",
        "sns.countplot(df.SME_Data, ax=ax[1])\n",
        "sns.countplot(df.Check_Web, ax=ax[2])#, palette='viridis')\n",
        "sns.countplot(df.Check_Telepon, order=[\"No\",\"Yes\"], ax=ax[3])#, palette='viridis')\n",
        "col = [\"Review_Relevan\", \"SME_Data\", \"Check_Web\", \"Check_Telepon\"]\n",
        "for i in range(4) : \n",
        "    ax[i].grid(axis='y', alpha=0.3,)\n",
        "    ax[i].set_axisbelow(True)\n",
        "    ax[i].spines['right'].set_visible(False)\n",
        "    ax[i].spines['left'].set_visible(False)\n",
        "    ax[i].spines['top'].set_visible(False)\n",
        "    ax[i].set_title(col[i])\n",
        "    ax[i].tick_params(labelsize=12)\n",
        "    ax[i].set_ylabel(\"Number of Data\", fontsize=14, labelpad=10, fontweight='bold')\n",
        "    ax[i].set_xlabel(\" \")\n",
        "    ax[i].tick_params(labelrotation=45)\n",
        "plt.suptitle(\"Diagram Batang\\n\", ha='center', x=0.5, y=1.02, \n",
        "             fontsize=18, fontweight='bold')\n",
        "plt.tight_layout()\n",
        "plt.show()"
      ]
    },
    {
      "cell_type": "markdown",
      "metadata": {
        "id": "rpx_l3WhxTgz"
      },
      "source": [
        "Dari diagram batang di atas diperoleh bahwa : \n",
        "- Review_Relevan paling banyak berisi kategori \"Kosong\" sebanyak 3207 data\n",
        "- Variabel SME_Data memiliki kategori paling banyak berisi \"Sangat Kurang Lengkap\" sebanyak 1958\n",
        "- Variabel Check_Web didominasi kategori No atau sebagian besar tempat tidak memiliki website sebanyak 3670\n",
        "- Sedangkan variabel Check_Telepon didominasi kategori Yes atau sebagian besar tempat memiliki no telepon sebanyak 3953"
      ]
    },
    {
      "cell_type": "code",
      "execution_count": 18,
      "metadata": {
        "id": "zyPO52AGxTg0",
        "outputId": "065ec86b-44d4-4e10-c3c1-7eead29beb7f",
        "colab": {
          "base_uri": "https://localhost:8080/",
          "height": 362
        }
      },
      "outputs": [
        {
          "output_type": "stream",
          "name": "stderr",
          "text": [
            "/usr/local/lib/python3.7/dist-packages/seaborn/_decorators.py:43: FutureWarning: Pass the following variable as a keyword arg: x. From version 0.12, the only valid positional argument will be `data`, and passing other arguments without an explicit keyword will result in an error or misinterpretation.\n",
            "  FutureWarning\n"
          ]
        },
        {
          "output_type": "display_data",
          "data": {
            "image/png": "[encoded data removed]",
            "text/plain": [
              "<Figure size 576x288 with 1 Axes>"
            ]
          },
          "metadata": {
            "needs_background": "light"
          }
        }
      ],
      "source": [
        "# Final Grade Countplot\n",
        "df['Label'].value_counts()\n",
        "plt.figure(figsize=(8,4))\n",
        "sns.countplot(df.Label, order=[\"Sangat Potential\",\"Potential\",\"Tidak Potential\"])\n",
        "plt.title('Label - Number of Data',fontsize=20)\n",
        "plt.xlabel('Label', fontsize=16)\n",
        "plt.ylabel('', fontsize=16)\n",
        "plt.show()"
      ]
    },
    {
      "cell_type": "code",
      "execution_count": 19,
      "metadata": {
        "id": "Jsokn8zbxTg0",
        "outputId": "ee36e972-75de-464e-827f-7fdd89272f16",
        "colab": {
          "base_uri": "https://localhost:8080/",
          "height": 0
        }
      },
      "outputs": [
        {
          "output_type": "execute_result",
          "data": {
            "text/plain": [
              "Potential           1976\n",
              "Tidak Potential     1815\n",
              "Sangat Potential    1447\n",
              "Name: Label, dtype: int64"
            ]
          },
          "metadata": {},
          "execution_count": 19
        }
      ],
      "source": [
        "df['Label'].value_counts()"
      ]
    },
    {
      "cell_type": "markdown",
      "metadata": {
        "id": "pHQqxKxpxTg1"
      },
      "source": [
        "Dari variabel target Label dapat dilihat persebaran kategori cenderung merata dengan kategori terbanyak adalah \"Potential\" sebanyak 1976 data. Persebaran kategori yang merata membantu menciptakan model dengan akurasi lebih baik."
      ]
    },
    {
      "cell_type": "markdown",
      "metadata": {
        "id": "cPNIWdasxTg1"
      },
      "source": [
        "## **4.2 Bivariate Analysis**\n",
        "Bivariate Analysis menganalisis hubungan antara 2 variabel. Akan dianalisis hubungan masing-masing variabel Review_Relevan, SME_Data, Check_Web, Check_Telepon dengan variabel Label menggunakan bar plot dan uji chi-square. Sehingga diperoleh variabel yang signifikan berpengaruh terhadap variabel target Label."
      ]
    },
    {
      "cell_type": "markdown",
      "metadata": {
        "id": "XUiICv8rQl_t"
      },
      "source": [
        "### **4.2.1. Label By Website & Telepon**\n",
        "see how label in have a Website & Telepon vs those not have "
      ]
    },
    {
      "cell_type": "code",
      "execution_count": 20,
      "metadata": {
        "id": "1SRM4ulqQl_t"
      },
      "outputs": [],
      "source": [
        "# Website status\n",
        "perc = (lambda col: col/col.sum())\n",
        "index = ['Sangat Potential','Potential','Tidak Potential']\n",
        "website_tab1 = pd.crosstab(index=df.Label, columns=df.Check_Web)\n",
        "website_tab = np.log(website_tab1)\n",
        "website_perc = website_tab.apply(perc).reindex(index)\n",
        "\n",
        "# Telepon Status\n",
        "telepon_tab1 = pd.crosstab(index=df.Label, columns=df.Check_Telepon)\n",
        "telepon_tab = np.log(telepon_tab1)\n",
        "telepon_perc = telepon_tab.apply(perc).reindex(index)"
      ]
    },
    {
      "cell_type": "code",
      "execution_count": 21,
      "metadata": {
        "id": "2ILF3lLJxTg2",
        "outputId": "8dfbc04c-5092-4bb9-f6ff-01335145eb3b",
        "colab": {
          "base_uri": "https://localhost:8080/",
          "height": 0
        }
      },
      "outputs": [
        {
          "output_type": "display_data",
          "data": {
            "image/png": "[encoded data removed]",
            "text/plain": [
              "<Figure size 1080x432 with 2 Axes>"
            ]
          },
          "metadata": {
            "needs_background": "light"
          }
        }
      ],
      "source": [
        "fig, ax = plt.subplots(1, 2, figsize=(15, 6))\n",
        "website_perc.plot.bar(colormap=\"viridis\", fontsize=16, ax=ax[0])\n",
        "telepon_perc.plot.bar(colormap=\"viridis\", fontsize=16, ax=ax[1])\n",
        "col = [\"Website\", \"Telepon\"]\n",
        "for i in range(2) : \n",
        "    ax[i].grid(axis='y', alpha=0.3,)\n",
        "    ax[i].set_axisbelow(True)\n",
        "    ax[i].spines['right'].set_visible(False)\n",
        "    ax[i].spines['left'].set_visible(False)\n",
        "    ax[i].spines['top'].set_visible(False)\n",
        "    ax[i].set_title(col[i])\n",
        "    ax[i].tick_params(labelsize=12)\n",
        "    ax[i].set_ylabel(\"Percentage\", fontsize=14, labelpad=10, fontweight='bold')\n",
        "    ax[i].set_xlabel(\" \")\n",
        "plt.suptitle(\"Label By Check\\n\", ha='center', x=0.5, y=1.02, \n",
        "             fontsize=18, fontweight='bold')\n",
        "plt.tight_layout()\n",
        "plt.show()"
      ]
    },
    {
      "cell_type": "markdown",
      "metadata": {
        "id": "kad5OatvxTg3"
      },
      "source": [
        "Dari diagram di atas diperoleh informasi bahwa :\n",
        "- **Website** : Tempat yang termasuk dalam kategori Sangat Potensial secara signifikan lebih banyak memiliki website dari pada yang tidak memiliki website, sedangkan tempat yang tidak memiliki website berpeluang besar masuk dalam kategori Potensial dan Tidak Potensial. Sehingga **tempat yang memiliki website menyebabkan label semakin potensial**\n",
        "- **Telepon** : Tempat dengan kategori Tidak Potensial sebagian besar tidak memiliki no Telepon, dan tempat dengan kategori Sangat Potensial dan Potensial mayoritas memiliki no Telepon. Sehingga **tempat yang memiliki no telepon menyebabkan label semakin potensial**"
      ]
    },
    {
      "cell_type": "markdown",
      "metadata": {
        "id": "Mml9ufRbQl_u"
      },
      "source": [
        "#### Hyphothesis Testing confirmed, website & telepon status has a significant correlation with Label."
      ]
    },
    {
      "cell_type": "code",
      "execution_count": 22,
      "metadata": {
        "id": "zj8HrflSkCXz",
        "outputId": "84bda1f1-a417-4d8e-bcc7-7f90f4264e8a",
        "colab": {
          "base_uri": "https://localhost:8080/",
          "height": 0
        }
      },
      "outputs": [
        {
          "output_type": "execute_result",
          "data": {
            "text/plain": [
              "0.0"
            ]
          },
          "metadata": {},
          "execution_count": 22
        }
      ],
      "source": [
        "# chi-square test result -- GOOD!\n",
        "website_table = sm.stats.Table(website_tab1)\n",
        "website_rslt = website_table.test_nominal_association()\n",
        "website_rslt.pvalue"
      ]
    },
    {
      "cell_type": "markdown",
      "metadata": {
        "id": "-p_sg_jjxTg4"
      },
      "source": [
        "Hasil uji chi-square di atas menunjukkan hubungan antara variabel label dan website. Diperoleh nilai pvalue=0 < alpha=0.05, artinya **ada hubungan yang signifikan antara variabel label dan website**."
      ]
    },
    {
      "cell_type": "code",
      "execution_count": 23,
      "metadata": {
        "id": "emrfaypEksH_",
        "outputId": "d6878034-60d4-4602-d23c-38b4da291a45",
        "colab": {
          "base_uri": "https://localhost:8080/",
          "height": 0
        }
      },
      "outputs": [
        {
          "output_type": "execute_result",
          "data": {
            "text/plain": [
              "0.0"
            ]
          },
          "metadata": {},
          "execution_count": 23
        }
      ],
      "source": [
        "# chi-square test result -- GOOD!\n",
        "telepon_table = sm.stats.Table(telepon_tab1)\n",
        "telepon_rslt = telepon_table.test_nominal_association()\n",
        "telepon_rslt.pvalue"
      ]
    },
    {
      "cell_type": "markdown",
      "metadata": {
        "id": "JRiBgdGaxTg5"
      },
      "source": [
        "Hasil uji chi-square di atas menunjukkan hubungan antara variabel label dan telepon. Diperoleh nilai pvalue=0 < alpha=0.05, artinya **ada hubungan yang signifikan antara variabel label dan telepon**."
      ]
    },
    {
      "cell_type": "markdown",
      "metadata": {
        "id": "OW8pcojmxTg5"
      },
      "source": [
        "### **4.2.2. Label By SME Kelengkapan Data**\n",
        "see how SME Kelengkapan Data influence label perfomance "
      ]
    },
    {
      "cell_type": "code",
      "execution_count": 24,
      "metadata": {
        "id": "l63ODyfkLGeB",
        "outputId": "58611d09-9749-48c3-b64a-5a227ee4391d",
        "colab": {
          "base_uri": "https://localhost:8080/",
          "height": 445
        }
      },
      "outputs": [
        {
          "output_type": "execute_result",
          "data": {
            "text/plain": [
              "Text(0.5, 0, 'Label')"
            ]
          },
          "metadata": {},
          "execution_count": 24
        },
        {
          "output_type": "display_data",
          "data": {
            "image/png": "[encoded data removed]",
            "text/plain": [
              "<Figure size 720x288 with 1 Axes>"
            ]
          },
          "metadata": {
            "needs_background": "light"
          }
        }
      ],
      "source": [
        "SME_tab = pd.crosstab(index=df.Label, columns=df.SME_Data)\n",
        "SME_perc = SME_tab.apply(perc).reindex(index)\n",
        "\n",
        "SME_perc.plot.bar(colormap=\"viridis\", fontsize=16, figsize=(10,4))\n",
        "plt.title('Label By SME Kelengkapan Data', fontsize=20)\n",
        "plt.ylabel('Percentage of MSMEs/Business', fontsize=16)\n",
        "plt.xlabel('Label', fontsize=16)"
      ]
    },
    {
      "cell_type": "markdown",
      "metadata": {
        "id": "jemprgpRxTg6"
      },
      "source": [
        "Dari diagram di atas diperoleh informasi bahwa :\n",
        "- SME_Data yang sempurna sebagian besar masuk pada label Sangat Potensial\n",
        "- SME_Data yang kurang lengkap sebagian besar masuk pada label Potensial\n",
        "- SME_Data yang Sangat Kurang Lengkap sebagian besar masuk pada label Tidak Potensial\n",
        "- Sehingga dapat disimpulkan bahwa **semakin lengkap SME_Data menyebabkan Label semakin potensial**"
      ]
    },
    {
      "cell_type": "code",
      "execution_count": 25,
      "metadata": {
        "id": "cTRBi62Z4p69",
        "outputId": "7a490518-17b1-475f-eda7-dc98aca47064",
        "colab": {
          "base_uri": "https://localhost:8080/",
          "height": 0
        }
      },
      "outputs": [
        {
          "output_type": "execute_result",
          "data": {
            "text/plain": [
              "0.0"
            ]
          },
          "metadata": {},
          "execution_count": 25
        }
      ],
      "source": [
        "# chi-square test result -- GOOD!\n",
        "SME_table = sm.stats.Table(SME_tab)\n",
        "SME_rslt = SME_table.test_nominal_association()\n",
        "SME_rslt.pvalue"
      ]
    },
    {
      "cell_type": "markdown",
      "metadata": {
        "id": "_MweieNbxTg7"
      },
      "source": [
        "Hasil uji chi-square di atas menunjukkan hubungan antara variabel label dan SME_Data. Diperoleh nilai pvalue=0 < alpha=0.05, artinya **ada hubungan yang signifikan antara variabel label dan SME_Data**."
      ]
    },
    {
      "cell_type": "markdown",
      "metadata": {
        "id": "yxKC7rKPxTg7"
      },
      "source": [
        "### **4.2.3. Label By Review Relevan**\n",
        "see how review relevan influence label perfomance "
      ]
    },
    {
      "cell_type": "code",
      "execution_count": 26,
      "metadata": {
        "id": "3eVIHMypiHfZ"
      },
      "outputs": [],
      "source": [
        "Review_Relevan_tab1 = pd.crosstab(index=df.Label, columns=df.Review_Relevan)\n",
        "Review_Relevan_perc = Review_Relevan_tab1.apply(perc).reindex(index)"
      ]
    },
    {
      "cell_type": "code",
      "execution_count": 27,
      "metadata": {
        "id": "3OlSUUb1lIS8",
        "outputId": "5f4f2d3c-025e-4492-da01-f7875c826323",
        "colab": {
          "base_uri": "https://localhost:8080/",
          "height": 445
        }
      },
      "outputs": [
        {
          "output_type": "execute_result",
          "data": {
            "text/plain": [
              "Text(0.5, 0, 'Label')"
            ]
          },
          "metadata": {},
          "execution_count": 27
        },
        {
          "output_type": "display_data",
          "data": {
            "image/png": "[encoded data removed]",
            "text/plain": [
              "<Figure size 720x288 with 1 Axes>"
            ]
          },
          "metadata": {
            "needs_background": "light"
          }
        }
      ],
      "source": [
        "Review_Relevan_perc.plot.bar(colormap=\"viridis\", fontsize=16, figsize=(10,4))\n",
        "plt.title('Label By Review Relevan', fontsize=20)\n",
        "plt.ylabel('Percentage of Review Relevan#', fontsize=16)\n",
        "plt.xlabel('Label', fontsize=16)"
      ]
    },
    {
      "cell_type": "markdown",
      "metadata": {
        "id": "6nctIYlCxTg9"
      },
      "source": [
        "Dari diagram di atas diperoleh informasi bahwa :\n",
        "- Secara umum persebaran kategori Review_Relevan cenderung seimbang untuk setiap Label\n",
        "- Untuk label Sangat Potensial didominasi Review_Relevan yang Sangat Terpenuhi\n",
        "- Untuk label Potensial cenderung seimbang antara Review_Relevan Sangat Terpenuhi dan Terpenuhi\n",
        "- Sedangkan label Tidak Potensial didominasi Review_Relevan Kosong"
      ]
    },
    {
      "cell_type": "code",
      "execution_count": 28,
      "metadata": {
        "id": "XFbQ_39NljcZ",
        "outputId": "b5090c69-2e80-49ec-893e-f3dc4faaf73b",
        "colab": {
          "base_uri": "https://localhost:8080/",
          "height": 0
        }
      },
      "outputs": [
        {
          "output_type": "execute_result",
          "data": {
            "text/plain": [
              "0.0"
            ]
          },
          "metadata": {},
          "execution_count": 28
        }
      ],
      "source": [
        "# chi-square test result -- Good!\n",
        "Review_Relevan_table = sm.stats.Table(Review_Relevan_tab1)\n",
        "Review_Relevan_rslt = Review_Relevan_table.test_nominal_association()\n",
        "Review_Relevan_rslt.pvalue"
      ]
    },
    {
      "cell_type": "markdown",
      "metadata": {
        "id": "Q33nahCuxTg-"
      },
      "source": [
        "Hasil uji chi-square di atas menunjukkan hubungan antara variabel label dan Review_Relevan. Diperoleh nilai pvalue=0 < alpha=0.05, artinya ada hubungan yang signifikan antara variabel label dan Review_Relevan."
      ]
    },
    {
      "cell_type": "markdown",
      "metadata": {
        "id": "mN8RLzTTxTg-"
      },
      "source": [
        "### **4.2.4. Conclution of Bivariate Analysist**\n",
        "Dari 4 variabel Review_Relevan, SME_Data, Check_Web, dan Check_Telepon dilakukan uji chi-square terhadap variabel target Label. Bahwa Variabel Review_Relevan, SME_Data, Check_Web, dan Check_Telepon memiliki pengaruh signifikan terhadap variabel target Label."
      ]
    },
    {
      "cell_type": "markdown",
      "metadata": {
        "id": "Ulm3HZpREkNw"
      },
      "source": [
        "# **5. Classification**\n",
        "### Use Google Maps Data Organization Information To Predict Their Potential"
      ]
    },
    {
      "cell_type": "markdown",
      "metadata": {
        "id": "PKcoS71VIMjJ"
      },
      "source": [
        "## 5.1 Prepare Dataset for Modeling\n"
      ]
    },
    {
      "cell_type": "code",
      "execution_count": 29,
      "metadata": {
        "colab": {
          "base_uri": "https://localhost:8080/",
          "height": 206
        },
        "id": "0vK4DZaVEuUe",
        "outputId": "bf0292e0-5359-4db3-8f11-416d12e8dead"
      },
      "outputs": [
        {
          "output_type": "execute_result",
          "data": {
            "text/html": [
              "\n",
              "  <div id=\"df-0ccafb02-f263-4e64-8e88-fbe57d42c5d3\">\n",
              "    <div class=\"colab-df-container\">\n",
              "      <div>\n",
              "<style scoped>\n",
              "    .dataframe tbody tr th:only-of-type {\n",
              "        vertical-align: middle;\n",
              "    }\n",
              "\n",
              "    .dataframe tbody tr th {\n",
              "        vertical-align: top;\n",
              "    }\n",
              "\n",
              "    .dataframe thead th {\n",
              "        text-align: right;\n",
              "    }\n",
              "</style>\n",
              "<table border=\"1\" class=\"dataframe\">\n",
              "  <thead>\n",
              "    <tr style=\"text-align: right;\">\n",
              "      <th></th>\n",
              "      <th>Rating</th>\n",
              "      <th>Total_Reviews</th>\n",
              "      <th>Review_Relevan</th>\n",
              "      <th>SME_Data</th>\n",
              "      <th>Distance</th>\n",
              "      <th>Check_Web</th>\n",
              "      <th>Check_Telepon</th>\n",
              "      <th>Label</th>\n",
              "    </tr>\n",
              "  </thead>\n",
              "  <tbody>\n",
              "    <tr>\n",
              "      <th>0</th>\n",
              "      <td>4.3</td>\n",
              "      <td>9871</td>\n",
              "      <td>Sangat Terpenuhi</td>\n",
              "      <td>Kurang Lengkap</td>\n",
              "      <td>0.034237</td>\n",
              "      <td>No</td>\n",
              "      <td>Yes</td>\n",
              "      <td>Potential</td>\n",
              "    </tr>\n",
              "    <tr>\n",
              "      <th>1</th>\n",
              "      <td>4.4</td>\n",
              "      <td>9288</td>\n",
              "      <td>Sangat Terpenuhi</td>\n",
              "      <td>Sempurna</td>\n",
              "      <td>0.201196</td>\n",
              "      <td>Yes</td>\n",
              "      <td>Yes</td>\n",
              "      <td>Sangat Potential</td>\n",
              "    </tr>\n",
              "    <tr>\n",
              "      <th>2</th>\n",
              "      <td>4.5</td>\n",
              "      <td>9222</td>\n",
              "      <td>Sangat Terpenuhi</td>\n",
              "      <td>Sempurna</td>\n",
              "      <td>0.248499</td>\n",
              "      <td>Yes</td>\n",
              "      <td>Yes</td>\n",
              "      <td>Sangat Potential</td>\n",
              "    </tr>\n",
              "    <tr>\n",
              "      <th>3</th>\n",
              "      <td>4.5</td>\n",
              "      <td>9163</td>\n",
              "      <td>Sangat Terpenuhi</td>\n",
              "      <td>Sempurna</td>\n",
              "      <td>0.805086</td>\n",
              "      <td>Yes</td>\n",
              "      <td>Yes</td>\n",
              "      <td>Sangat Potential</td>\n",
              "    </tr>\n",
              "    <tr>\n",
              "      <th>4</th>\n",
              "      <td>4.5</td>\n",
              "      <td>8830</td>\n",
              "      <td>Terpenuhi</td>\n",
              "      <td>Sangat Kurang Lengkap</td>\n",
              "      <td>0.140069</td>\n",
              "      <td>No</td>\n",
              "      <td>Yes</td>\n",
              "      <td>Potential</td>\n",
              "    </tr>\n",
              "  </tbody>\n",
              "</table>\n",
              "</div>\n",
              "      <button class=\"colab-df-convert\" onclick=\"convertToInteractive('df-0ccafb02-f263-4e64-8e88-fbe57d42c5d3')\"\n",
              "              title=\"Convert this dataframe to an interactive table.\"\n",
              "              style=\"display:none;\">\n",
              "        \n",
              "  <svg xmlns=\"http://www.w3.org/2000/svg\" height=\"24px\"viewBox=\"0 0 24 24\"\n",
              "       width=\"24px\">\n",
              "    <path d=\"M0 0h24v24H0V0z\" fill=\"none\"/>\n",
              "    <path d=\"M18.56 5.44l.94 2.06.94-2.06 2.06-.94-2.06-.94-.94-2.06-.94 2.06-2.06.94zm-11 1L8.5 8.5l.94-2.06 2.06-.94-2.06-.94L8.5 2.5l-.94 2.06-2.06.94zm10 10l.94 2.06.94-2.06 2.06-.94-2.06-.94-.94-2.06-.94 2.06-2.06.94z\"/><path d=\"M17.41 7.96l-1.37-1.37c-.4-.4-.92-.59-1.43-.59-.52 0-1.04.2-1.43.59L10.3 9.45l-7.72 7.72c-.78.78-.78 2.05 0 2.83L4 21.41c.39.39.9.59 1.41.59.51 0 1.02-.2 1.41-.59l7.78-7.78 2.81-2.81c.8-.78.8-2.07 0-2.86zM5.41 20L4 18.59l7.72-7.72 1.47 1.35L5.41 20z\"/>\n",
              "  </svg>\n",
              "      </button>\n",
              "      \n",
              "  <style>\n",
              "    .colab-df-container {\n",
              "      display:flex;\n",
              "      flex-wrap:wrap;\n",
              "      gap: 12px;\n",
              "    }\n",
              "\n",
              "    .colab-df-convert {\n",
              "      background-color: #E8F0FE;\n",
              "      border: none;\n",
              "      border-radius: 50%;\n",
              "      cursor: pointer;\n",
              "      display: none;\n",
              "      fill: #1967D2;\n",
              "      height: 32px;\n",
              "      padding: 0 0 0 0;\n",
              "      width: 32px;\n",
              "    }\n",
              "\n",
              "    .colab-df-convert:hover {\n",
              "      background-color: #E2EBFA;\n",
              "      box-shadow: 0px 1px 2px rgba(60, 64, 67, 0.3), 0px 1px 3px 1px rgba(60, 64, 67, 0.15);\n",
              "      fill: #174EA6;\n",
              "    }\n",
              "\n",
              "    [theme=dark] .colab-df-convert {\n",
              "      background-color: #3B4455;\n",
              "      fill: #D2E3FC;\n",
              "    }\n",
              "\n",
              "    [theme=dark] .colab-df-convert:hover {\n",
              "      background-color: #434B5C;\n",
              "      box-shadow: 0px 1px 3px 1px rgba(0, 0, 0, 0.15);\n",
              "      filter: drop-shadow(0px 1px 2px rgba(0, 0, 0, 0.3));\n",
              "      fill: #FFFFFF;\n",
              "    }\n",
              "  </style>\n",
              "\n",
              "      <script>\n",
              "        const buttonEl =\n",
              "          document.querySelector('#df-0ccafb02-f263-4e64-8e88-fbe57d42c5d3 button.colab-df-convert');\n",
              "        buttonEl.style.display =\n",
              "          google.colab.kernel.accessAllowed ? 'block' : 'none';\n",
              "\n",
              "        async function convertToInteractive(key) {\n",
              "          const element = document.querySelector('#df-0ccafb02-f263-4e64-8e88-fbe57d42c5d3');\n",
              "          const dataTable =\n",
              "            await google.colab.kernel.invokeFunction('convertToInteractive',\n",
              "                                                     [key], {});\n",
              "          if (!dataTable) return;\n",
              "\n",
              "          const docLinkHtml = 'Like what you see? Visit the ' +\n",
              "            '<a target=\"_blank\" href=https://colab.research.google.com/notebooks/data_table.ipynb>data table notebook</a>'\n",
              "            + ' to learn more about interactive tables.';\n",
              "          element.innerHTML = '';\n",
              "          dataTable['output_type'] = 'display_data';\n",
              "          await google.colab.output.renderOutput(dataTable, element);\n",
              "          const docLink = document.createElement('div');\n",
              "          docLink.innerHTML = docLinkHtml;\n",
              "          element.appendChild(docLink);\n",
              "        }\n",
              "      </script>\n",
              "    </div>\n",
              "  </div>\n",
              "  "
            ],
            "text/plain": [
              "   Rating  Total_Reviews  ... Check_Telepon             Label\n",
              "0     4.3           9871  ...           Yes         Potential\n",
              "1     4.4           9288  ...           Yes  Sangat Potential\n",
              "2     4.5           9222  ...           Yes  Sangat Potential\n",
              "3     4.5           9163  ...           Yes  Sangat Potential\n",
              "4     4.5           8830  ...           Yes         Potential\n",
              "\n",
              "[5 rows x 8 columns]"
            ]
          },
          "metadata": {},
          "execution_count": 29
        }
      ],
      "source": [
        "# create dataframe dfd for classification\n",
        "#clean_df = df.copy()\n",
        "clean_df = df\n",
        "clean_df.head(5)"
      ]
    },
    {
      "cell_type": "code",
      "source": [
        "clean_df.info()"
      ],
      "metadata": {
        "colab": {
          "base_uri": "https://localhost:8080/",
          "height": 0
        },
        "id": "KtduRDGsGvbF",
        "outputId": "897617de-7081-4c43-90a7-0b1d4c240393"
      },
      "execution_count": 30,
      "outputs": [
        {
          "output_type": "stream",
          "name": "stdout",
          "text": [
            "<class 'pandas.core.frame.DataFrame'>\n",
            "Int64Index: 5238 entries, 0 to 5237\n",
            "Data columns (total 8 columns):\n",
            " #   Column          Non-Null Count  Dtype  \n",
            "---  ------          --------------  -----  \n",
            " 0   Rating          5238 non-null   float64\n",
            " 1   Total_Reviews   5238 non-null   int64  \n",
            " 2   Review_Relevan  5238 non-null   object \n",
            " 3   SME_Data        5238 non-null   object \n",
            " 4   Distance        5238 non-null   float64\n",
            " 5   Check_Web       5238 non-null   object \n",
            " 6   Check_Telepon   5238 non-null   object \n",
            " 7   Label           5238 non-null   object \n",
            "dtypes: float64(2), int64(1), object(5)\n",
            "memory usage: 497.3+ KB\n"
          ]
        }
      ]
    },
    {
      "cell_type": "code",
      "source": [
        "# replacing values from categorical to numeric\n",
        "clean_df['SME_Data'].replace(['Sangat Kurang Lengkap','Kurang Lengkap','Sempurna'],[0,1,2], inplace=True)\n",
        "clean_df['Review_Relevan'].replace(['Kosong','Terpenuhi','Sangat Terpenuhi'],[0,1,2], inplace=True)\n",
        "clean_df['Check_Web'].replace(['No','Yes'],[0,1], inplace=True)\n",
        "clean_df['Check_Telepon'].replace(['No','Yes'],[0,1], inplace=True)\n",
        "clean_df['Label'].replace(['Tidak Potential','Potential','Sangat Potential'],[0,1,2], inplace=True)\n",
        "clean_df.head(6)"
      ],
      "metadata": {
        "colab": {
          "base_uri": "https://localhost:8080/",
          "height": 237
        },
        "id": "4CfY5NIhFaAR",
        "outputId": "549082e6-09ce-49dc-b993-f0d4778a51a1"
      },
      "execution_count": 52,
      "outputs": [
        {
          "output_type": "execute_result",
          "data": {
            "text/html": [
              "\n",
              "  <div id=\"df-e6ad10d8-6648-4b59-b97f-58363bbfcf0d\">\n",
              "    <div class=\"colab-df-container\">\n",
              "      <div>\n",
              "<style scoped>\n",
              "    .dataframe tbody tr th:only-of-type {\n",
              "        vertical-align: middle;\n",
              "    }\n",
              "\n",
              "    .dataframe tbody tr th {\n",
              "        vertical-align: top;\n",
              "    }\n",
              "\n",
              "    .dataframe thead th {\n",
              "        text-align: right;\n",
              "    }\n",
              "</style>\n",
              "<table border=\"1\" class=\"dataframe\">\n",
              "  <thead>\n",
              "    <tr style=\"text-align: right;\">\n",
              "      <th></th>\n",
              "      <th>Rating</th>\n",
              "      <th>Total_Reviews</th>\n",
              "      <th>Review_Relevan</th>\n",
              "      <th>SME_Data</th>\n",
              "      <th>Distance</th>\n",
              "      <th>Check_Web</th>\n",
              "      <th>Check_Telepon</th>\n",
              "      <th>Label</th>\n",
              "    </tr>\n",
              "  </thead>\n",
              "  <tbody>\n",
              "    <tr>\n",
              "      <th>0</th>\n",
              "      <td>4.3</td>\n",
              "      <td>9871</td>\n",
              "      <td>2</td>\n",
              "      <td>1</td>\n",
              "      <td>0.034237</td>\n",
              "      <td>0</td>\n",
              "      <td>1</td>\n",
              "      <td>1</td>\n",
              "    </tr>\n",
              "    <tr>\n",
              "      <th>1</th>\n",
              "      <td>4.4</td>\n",
              "      <td>9288</td>\n",
              "      <td>2</td>\n",
              "      <td>2</td>\n",
              "      <td>0.201196</td>\n",
              "      <td>1</td>\n",
              "      <td>1</td>\n",
              "      <td>2</td>\n",
              "    </tr>\n",
              "    <tr>\n",
              "      <th>2</th>\n",
              "      <td>4.5</td>\n",
              "      <td>9222</td>\n",
              "      <td>2</td>\n",
              "      <td>2</td>\n",
              "      <td>0.248499</td>\n",
              "      <td>1</td>\n",
              "      <td>1</td>\n",
              "      <td>2</td>\n",
              "    </tr>\n",
              "    <tr>\n",
              "      <th>3</th>\n",
              "      <td>4.5</td>\n",
              "      <td>9163</td>\n",
              "      <td>2</td>\n",
              "      <td>2</td>\n",
              "      <td>0.805086</td>\n",
              "      <td>1</td>\n",
              "      <td>1</td>\n",
              "      <td>2</td>\n",
              "    </tr>\n",
              "    <tr>\n",
              "      <th>4</th>\n",
              "      <td>4.5</td>\n",
              "      <td>8830</td>\n",
              "      <td>1</td>\n",
              "      <td>0</td>\n",
              "      <td>0.140069</td>\n",
              "      <td>0</td>\n",
              "      <td>1</td>\n",
              "      <td>1</td>\n",
              "    </tr>\n",
              "    <tr>\n",
              "      <th>5</th>\n",
              "      <td>4.6</td>\n",
              "      <td>8724</td>\n",
              "      <td>1</td>\n",
              "      <td>2</td>\n",
              "      <td>0.338992</td>\n",
              "      <td>1</td>\n",
              "      <td>1</td>\n",
              "      <td>2</td>\n",
              "    </tr>\n",
              "  </tbody>\n",
              "</table>\n",
              "</div>\n",
              "      <button class=\"colab-df-convert\" onclick=\"convertToInteractive('df-e6ad10d8-6648-4b59-b97f-58363bbfcf0d')\"\n",
              "              title=\"Convert this dataframe to an interactive table.\"\n",
              "              style=\"display:none;\">\n",
              "        \n",
              "  <svg xmlns=\"http://www.w3.org/2000/svg\" height=\"24px\"viewBox=\"0 0 24 24\"\n",
              "       width=\"24px\">\n",
              "    <path d=\"M0 0h24v24H0V0z\" fill=\"none\"/>\n",
              "    <path d=\"M18.56 5.44l.94 2.06.94-2.06 2.06-.94-2.06-.94-.94-2.06-.94 2.06-2.06.94zm-11 1L8.5 8.5l.94-2.06 2.06-.94-2.06-.94L8.5 2.5l-.94 2.06-2.06.94zm10 10l.94 2.06.94-2.06 2.06-.94-2.06-.94-.94-2.06-.94 2.06-2.06.94z\"/><path d=\"M17.41 7.96l-1.37-1.37c-.4-.4-.92-.59-1.43-.59-.52 0-1.04.2-1.43.59L10.3 9.45l-7.72 7.72c-.78.78-.78 2.05 0 2.83L4 21.41c.39.39.9.59 1.41.59.51 0 1.02-.2 1.41-.59l7.78-7.78 2.81-2.81c.8-.78.8-2.07 0-2.86zM5.41 20L4 18.59l7.72-7.72 1.47 1.35L5.41 20z\"/>\n",
              "  </svg>\n",
              "      </button>\n",
              "      \n",
              "  <style>\n",
              "    .colab-df-container {\n",
              "      display:flex;\n",
              "      flex-wrap:wrap;\n",
              "      gap: 12px;\n",
              "    }\n",
              "\n",
              "    .colab-df-convert {\n",
              "      background-color: #E8F0FE;\n",
              "      border: none;\n",
              "      border-radius: 50%;\n",
              "      cursor: pointer;\n",
              "      display: none;\n",
              "      fill: #1967D2;\n",
              "      height: 32px;\n",
              "      padding: 0 0 0 0;\n",
              "      width: 32px;\n",
              "    }\n",
              "\n",
              "    .colab-df-convert:hover {\n",
              "      background-color: #E2EBFA;\n",
              "      box-shadow: 0px 1px 2px rgba(60, 64, 67, 0.3), 0px 1px 3px 1px rgba(60, 64, 67, 0.15);\n",
              "      fill: #174EA6;\n",
              "    }\n",
              "\n",
              "    [theme=dark] .colab-df-convert {\n",
              "      background-color: #3B4455;\n",
              "      fill: #D2E3FC;\n",
              "    }\n",
              "\n",
              "    [theme=dark] .colab-df-convert:hover {\n",
              "      background-color: #434B5C;\n",
              "      box-shadow: 0px 1px 3px 1px rgba(0, 0, 0, 0.15);\n",
              "      filter: drop-shadow(0px 1px 2px rgba(0, 0, 0, 0.3));\n",
              "      fill: #FFFFFF;\n",
              "    }\n",
              "  </style>\n",
              "\n",
              "      <script>\n",
              "        const buttonEl =\n",
              "          document.querySelector('#df-e6ad10d8-6648-4b59-b97f-58363bbfcf0d button.colab-df-convert');\n",
              "        buttonEl.style.display =\n",
              "          google.colab.kernel.accessAllowed ? 'block' : 'none';\n",
              "\n",
              "        async function convertToInteractive(key) {\n",
              "          const element = document.querySelector('#df-e6ad10d8-6648-4b59-b97f-58363bbfcf0d');\n",
              "          const dataTable =\n",
              "            await google.colab.kernel.invokeFunction('convertToInteractive',\n",
              "                                                     [key], {});\n",
              "          if (!dataTable) return;\n",
              "\n",
              "          const docLinkHtml = 'Like what you see? Visit the ' +\n",
              "            '<a target=\"_blank\" href=https://colab.research.google.com/notebooks/data_table.ipynb>data table notebook</a>'\n",
              "            + ' to learn more about interactive tables.';\n",
              "          element.innerHTML = '';\n",
              "          dataTable['output_type'] = 'display_data';\n",
              "          await google.colab.output.renderOutput(dataTable, element);\n",
              "          const docLink = document.createElement('div');\n",
              "          docLink.innerHTML = docLinkHtml;\n",
              "          element.appendChild(docLink);\n",
              "        }\n",
              "      </script>\n",
              "    </div>\n",
              "  </div>\n",
              "  "
            ],
            "text/plain": [
              "   Rating  Total_Reviews  Review_Relevan  ...  Check_Web  Check_Telepon  Label\n",
              "0     4.3           9871               2  ...          0              1      1\n",
              "1     4.4           9288               2  ...          1              1      2\n",
              "2     4.5           9222               2  ...          1              1      2\n",
              "3     4.5           9163               2  ...          1              1      2\n",
              "4     4.5           8830               1  ...          0              1      1\n",
              "5     4.6           8724               1  ...          1              1      2\n",
              "\n",
              "[6 rows x 8 columns]"
            ]
          },
          "metadata": {},
          "execution_count": 52
        }
      ]
    },
    {
      "cell_type": "code",
      "source": [
        "# see correlation between variables through a correlation heatmap\n",
        "corr = clean_df.corr()\n",
        "plt.figure(figsize=(10,10))\n",
        "sns.heatmap(corr, annot=True, cmap=\"YlGnBu\")\n",
        "plt.title('Correlation Heatmap', fontsize=20)"
      ],
      "metadata": {
        "colab": {
          "base_uri": "https://localhost:8080/",
          "height": 701
        },
        "id": "CLd7hFOzSZ25",
        "outputId": "fde1cb1d-e84b-4403-a88b-7e7e0944ab2d"
      },
      "execution_count": 32,
      "outputs": [
        {
          "output_type": "execute_result",
          "data": {
            "text/plain": [
              "Text(0.5, 1.0, 'Correlation Heatmap')"
            ]
          },
          "metadata": {},
          "execution_count": 32
        },
        {
          "output_type": "display_data",
          "data": {
            "image/png": "[encoded data removed]",
            "text/plain": [
              "<Figure size 720x720 with 2 Axes>"
            ]
          },
          "metadata": {
            "needs_background": "light"
          }
        }
      ]
    },
    {
      "cell_type": "code",
      "source": [
        "#Save clean_df dataframe to csv file\n",
        "clean_df.to_csv('clean_Master.csv')"
      ],
      "metadata": {
        "id": "2NkahlAK5Tuw"
      },
      "execution_count": 33,
      "outputs": []
    },
    {
      "cell_type": "code",
      "source": [
        "clean_df.describe()"
      ],
      "metadata": {
        "colab": {
          "base_uri": "https://localhost:8080/",
          "height": 300
        },
        "id": "QVrzG_tqHf4Z",
        "outputId": "ebb043fe-9eef-4e73-e71a-9cfef48d67d5"
      },
      "execution_count": 34,
      "outputs": [
        {
          "output_type": "execute_result",
          "data": {
            "text/html": [
              "\n",
              "  <div id=\"df-8067f5b3-fcc2-453e-b8d8-7800babb5be5\">\n",
              "    <div class=\"colab-df-container\">\n",
              "      <div>\n",
              "<style scoped>\n",
              "    .dataframe tbody tr th:only-of-type {\n",
              "        vertical-align: middle;\n",
              "    }\n",
              "\n",
              "    .dataframe tbody tr th {\n",
              "        vertical-align: top;\n",
              "    }\n",
              "\n",
              "    .dataframe thead th {\n",
              "        text-align: right;\n",
              "    }\n",
              "</style>\n",
              "<table border=\"1\" class=\"dataframe\">\n",
              "  <thead>\n",
              "    <tr style=\"text-align: right;\">\n",
              "      <th></th>\n",
              "      <th>Rating</th>\n",
              "      <th>Total_Reviews</th>\n",
              "      <th>Review_Relevan</th>\n",
              "      <th>SME_Data</th>\n",
              "      <th>Distance</th>\n",
              "      <th>Check_Web</th>\n",
              "      <th>Check_Telepon</th>\n",
              "      <th>Label</th>\n",
              "    </tr>\n",
              "  </thead>\n",
              "  <tbody>\n",
              "    <tr>\n",
              "      <th>count</th>\n",
              "      <td>5238.000000</td>\n",
              "      <td>5238.000000</td>\n",
              "      <td>5238.000000</td>\n",
              "      <td>5238.000000</td>\n",
              "      <td>5238.000000</td>\n",
              "      <td>5238.000000</td>\n",
              "      <td>5238.000000</td>\n",
              "      <td>5238.000000</td>\n",
              "    </tr>\n",
              "    <tr>\n",
              "      <th>mean</th>\n",
              "      <td>3.519645</td>\n",
              "      <td>296.379534</td>\n",
              "      <td>0.561474</td>\n",
              "      <td>0.887362</td>\n",
              "      <td>0.956106</td>\n",
              "      <td>0.299351</td>\n",
              "      <td>0.754677</td>\n",
              "      <td>0.929744</td>\n",
              "    </tr>\n",
              "    <tr>\n",
              "      <th>std</th>\n",
              "      <td>1.819150</td>\n",
              "      <td>881.320082</td>\n",
              "      <td>0.770581</td>\n",
              "      <td>0.788927</td>\n",
              "      <td>1.082644</td>\n",
              "      <td>0.458017</td>\n",
              "      <td>0.430319</td>\n",
              "      <td>0.786091</td>\n",
              "    </tr>\n",
              "    <tr>\n",
              "      <th>min</th>\n",
              "      <td>0.000000</td>\n",
              "      <td>0.000000</td>\n",
              "      <td>0.000000</td>\n",
              "      <td>0.000000</td>\n",
              "      <td>0.015588</td>\n",
              "      <td>0.000000</td>\n",
              "      <td>0.000000</td>\n",
              "      <td>0.000000</td>\n",
              "    </tr>\n",
              "    <tr>\n",
              "      <th>25%</th>\n",
              "      <td>3.700000</td>\n",
              "      <td>1.000000</td>\n",
              "      <td>0.000000</td>\n",
              "      <td>0.000000</td>\n",
              "      <td>0.365166</td>\n",
              "      <td>0.000000</td>\n",
              "      <td>1.000000</td>\n",
              "      <td>0.000000</td>\n",
              "    </tr>\n",
              "    <tr>\n",
              "      <th>50%</th>\n",
              "      <td>4.400000</td>\n",
              "      <td>15.000000</td>\n",
              "      <td>0.000000</td>\n",
              "      <td>1.000000</td>\n",
              "      <td>0.610671</td>\n",
              "      <td>0.000000</td>\n",
              "      <td>1.000000</td>\n",
              "      <td>1.000000</td>\n",
              "    </tr>\n",
              "    <tr>\n",
              "      <th>75%</th>\n",
              "      <td>4.600000</td>\n",
              "      <td>140.750000</td>\n",
              "      <td>1.000000</td>\n",
              "      <td>2.000000</td>\n",
              "      <td>1.090513</td>\n",
              "      <td>1.000000</td>\n",
              "      <td>1.000000</td>\n",
              "      <td>2.000000</td>\n",
              "    </tr>\n",
              "    <tr>\n",
              "      <th>max</th>\n",
              "      <td>5.000000</td>\n",
              "      <td>9871.000000</td>\n",
              "      <td>2.000000</td>\n",
              "      <td>2.000000</td>\n",
              "      <td>10.768379</td>\n",
              "      <td>1.000000</td>\n",
              "      <td>1.000000</td>\n",
              "      <td>2.000000</td>\n",
              "    </tr>\n",
              "  </tbody>\n",
              "</table>\n",
              "</div>\n",
              "      <button class=\"colab-df-convert\" onclick=\"convertToInteractive('df-8067f5b3-fcc2-453e-b8d8-7800babb5be5')\"\n",
              "              title=\"Convert this dataframe to an interactive table.\"\n",
              "              style=\"display:none;\">\n",
              "        \n",
              "  <svg xmlns=\"http://www.w3.org/2000/svg\" height=\"24px\"viewBox=\"0 0 24 24\"\n",
              "       width=\"24px\">\n",
              "    <path d=\"M0 0h24v24H0V0z\" fill=\"none\"/>\n",
              "    <path d=\"M18.56 5.44l.94 2.06.94-2.06 2.06-.94-2.06-.94-.94-2.06-.94 2.06-2.06.94zm-11 1L8.5 8.5l.94-2.06 2.06-.94-2.06-.94L8.5 2.5l-.94 2.06-2.06.94zm10 10l.94 2.06.94-2.06 2.06-.94-2.06-.94-.94-2.06-.94 2.06-2.06.94z\"/><path d=\"M17.41 7.96l-1.37-1.37c-.4-.4-.92-.59-1.43-.59-.52 0-1.04.2-1.43.59L10.3 9.45l-7.72 7.72c-.78.78-.78 2.05 0 2.83L4 21.41c.39.39.9.59 1.41.59.51 0 1.02-.2 1.41-.59l7.78-7.78 2.81-2.81c.8-.78.8-2.07 0-2.86zM5.41 20L4 18.59l7.72-7.72 1.47 1.35L5.41 20z\"/>\n",
              "  </svg>\n",
              "      </button>\n",
              "      \n",
              "  <style>\n",
              "    .colab-df-container {\n",
              "      display:flex;\n",
              "      flex-wrap:wrap;\n",
              "      gap: 12px;\n",
              "    }\n",
              "\n",
              "    .colab-df-convert {\n",
              "      background-color: #E8F0FE;\n",
              "      border: none;\n",
              "      border-radius: 50%;\n",
              "      cursor: pointer;\n",
              "      display: none;\n",
              "      fill: #1967D2;\n",
              "      height: 32px;\n",
              "      padding: 0 0 0 0;\n",
              "      width: 32px;\n",
              "    }\n",
              "\n",
              "    .colab-df-convert:hover {\n",
              "      background-color: #E2EBFA;\n",
              "      box-shadow: 0px 1px 2px rgba(60, 64, 67, 0.3), 0px 1px 3px 1px rgba(60, 64, 67, 0.15);\n",
              "      fill: #174EA6;\n",
              "    }\n",
              "\n",
              "    [theme=dark] .colab-df-convert {\n",
              "      background-color: #3B4455;\n",
              "      fill: #D2E3FC;\n",
              "    }\n",
              "\n",
              "    [theme=dark] .colab-df-convert:hover {\n",
              "      background-color: #434B5C;\n",
              "      box-shadow: 0px 1px 3px 1px rgba(0, 0, 0, 0.15);\n",
              "      filter: drop-shadow(0px 1px 2px rgba(0, 0, 0, 0.3));\n",
              "      fill: #FFFFFF;\n",
              "    }\n",
              "  </style>\n",
              "\n",
              "      <script>\n",
              "        const buttonEl =\n",
              "          document.querySelector('#df-8067f5b3-fcc2-453e-b8d8-7800babb5be5 button.colab-df-convert');\n",
              "        buttonEl.style.display =\n",
              "          google.colab.kernel.accessAllowed ? 'block' : 'none';\n",
              "\n",
              "        async function convertToInteractive(key) {\n",
              "          const element = document.querySelector('#df-8067f5b3-fcc2-453e-b8d8-7800babb5be5');\n",
              "          const dataTable =\n",
              "            await google.colab.kernel.invokeFunction('convertToInteractive',\n",
              "                                                     [key], {});\n",
              "          if (!dataTable) return;\n",
              "\n",
              "          const docLinkHtml = 'Like what you see? Visit the ' +\n",
              "            '<a target=\"_blank\" href=https://colab.research.google.com/notebooks/data_table.ipynb>data table notebook</a>'\n",
              "            + ' to learn more about interactive tables.';\n",
              "          element.innerHTML = '';\n",
              "          dataTable['output_type'] = 'display_data';\n",
              "          await google.colab.output.renderOutput(dataTable, element);\n",
              "          const docLink = document.createElement('div');\n",
              "          docLink.innerHTML = docLinkHtml;\n",
              "          element.appendChild(docLink);\n",
              "        }\n",
              "      </script>\n",
              "    </div>\n",
              "  </div>\n",
              "  "
            ],
            "text/plain": [
              "            Rating  Total_Reviews  ...  Check_Telepon        Label\n",
              "count  5238.000000    5238.000000  ...    5238.000000  5238.000000\n",
              "mean      3.519645     296.379534  ...       0.754677     0.929744\n",
              "std       1.819150     881.320082  ...       0.430319     0.786091\n",
              "min       0.000000       0.000000  ...       0.000000     0.000000\n",
              "25%       3.700000       1.000000  ...       1.000000     0.000000\n",
              "50%       4.400000      15.000000  ...       1.000000     1.000000\n",
              "75%       4.600000     140.750000  ...       1.000000     2.000000\n",
              "max       5.000000    9871.000000  ...       1.000000     2.000000\n",
              "\n",
              "[8 rows x 8 columns]"
            ]
          },
          "metadata": {},
          "execution_count": 34
        }
      ]
    },
    {
      "cell_type": "code",
      "source": [
        "clean_df['Label'].value_counts()"
      ],
      "metadata": {
        "colab": {
          "base_uri": "https://localhost:8080/",
          "height": 0
        },
        "id": "UyRy_C1qCP1H",
        "outputId": "0dc75aba-adbb-45ed-fa52-787a1624d9bb"
      },
      "execution_count": 35,
      "outputs": [
        {
          "output_type": "execute_result",
          "data": {
            "text/plain": [
              "1    1976\n",
              "0    1815\n",
              "2    1447\n",
              "Name: Label, dtype: int64"
            ]
          },
          "metadata": {},
          "execution_count": 35
        }
      ]
    },
    {
      "cell_type": "code",
      "source": [
        "#SPLITTING DATASET\n",
        "# Predictor dan target\n",
        "X = clean_df.drop('Label', axis = 1)\n",
        "y = clean_df['Label']\n",
        "# Splitting train and test\n",
        "x_train, x_test, y_train, y_test = train_test_split(X, y, test_size=0.2, random_state=42)\n",
        "# Print according to the expected result\n",
        "print('Jumlah baris dan kolom dari x_train adalah:', x_train.shape, 'sedangkan jumlah baris dan kolom dari y_train adalah:', y_train.shape)\n",
        "print('Persentase Label di data Training adalah:')\n",
        "print(y_train.value_counts(normalize=True))\n",
        "print('Jumlah baris dan kolom dari x_test adalah:', x_test.shape, 'sedangkan jumlah baris dan kolom dari y_test adalah:', y_test.shape)\n",
        "print('Persentase Label di data Testing adalah:')\n",
        "print(y_test.value_counts(normalize=True))"
      ],
      "metadata": {
        "colab": {
          "base_uri": "https://localhost:8080/",
          "height": 0
        },
        "id": "-nyL25SQBJBf",
        "outputId": "58445179-6b8a-497d-c22e-b279347371c4"
      },
      "execution_count": 36,
      "outputs": [
        {
          "output_type": "stream",
          "name": "stdout",
          "text": [
            "Jumlah baris dan kolom dari x_train adalah: (4190, 7) sedangkan jumlah baris dan kolom dari y_train adalah: (4190,)\n",
            "Persentase Label di data Training adalah:\n",
            "1    0.378282\n",
            "0    0.346778\n",
            "2    0.274940\n",
            "Name: Label, dtype: float64\n",
            "Jumlah baris dan kolom dari x_test adalah: (1048, 7) sedangkan jumlah baris dan kolom dari y_test adalah: (1048,)\n",
            "Persentase Label di data Testing adalah:\n",
            "1    0.373092\n",
            "0    0.345420\n",
            "2    0.281489\n",
            "Name: Label, dtype: float64\n"
          ]
        }
      ]
    },
    {
      "cell_type": "markdown",
      "source": [
        "## 5.2 Classification Method"
      ],
      "metadata": {
        "id": "1RR9-QBl0h1A"
      }
    },
    {
      "cell_type": "markdown",
      "source": [
        "### 5.2.1 **Model Logistic Regression**"
      ],
      "metadata": {
        "id": "Lbq_aB5IkbOX"
      }
    },
    {
      "cell_type": "code",
      "source": [
        "#PEMBUATAN MODEL\n",
        "from sklearn.linear_model import LogisticRegression\n",
        "log_model = LogisticRegression().fit(x_train,y_train)\n",
        "\n",
        "#PERFORMANSI MODEL TRAINING\n",
        "# Predict\n",
        "y_test_pred = log_model.predict(x_test)\n",
        "#PERFORMANSI MODEL\n",
        "# score\n",
        "print(\"Random Forest Model Score\" , \":\" , log_model.score(x_train, y_train),\n",
        "      \"Cross Validation Score\" ,\":\" , log_model.score(x_test, y_test))\n",
        "# classification report \n",
        "print('Classification Report Testing Model (Logistic Regression) :')\n",
        "print(classification_report(y_test,y_test_pred))"
      ],
      "metadata": {
        "colab": {
          "base_uri": "https://localhost:8080/",
          "height": 0
        },
        "id": "ELlPsVysIvTS",
        "outputId": "4d23425a-0b6b-4878-ce64-9da8e6f5860c"
      },
      "execution_count": 37,
      "outputs": [
        {
          "output_type": "stream",
          "name": "stdout",
          "text": [
            "Random Forest Model Score : 0.9391408114558473 Cross Validation Score : 0.9322519083969466\n",
            "Classification Report Testing Model (Logistic Regression) :\n",
            "              precision    recall  f1-score   support\n",
            "\n",
            "           0       0.95      0.88      0.91       362\n",
            "           1       0.91      0.95      0.93       391\n",
            "           2       0.95      0.97      0.96       295\n",
            "\n",
            "    accuracy                           0.93      1048\n",
            "   macro avg       0.93      0.93      0.93      1048\n",
            "weighted avg       0.93      0.93      0.93      1048\n",
            "\n"
          ]
        },
        {
          "output_type": "stream",
          "name": "stderr",
          "text": [
            "/usr/local/lib/python3.7/dist-packages/sklearn/linear_model/_logistic.py:818: ConvergenceWarning: lbfgs failed to converge (status=1):\n",
            "STOP: TOTAL NO. of ITERATIONS REACHED LIMIT.\n",
            "\n",
            "Increase the number of iterations (max_iter) or scale the data as shown in:\n",
            "    https://scikit-learn.org/stable/modules/preprocessing.html\n",
            "Please also refer to the documentation for alternative solver options:\n",
            "    https://scikit-learn.org/stable/modules/linear_model.html#logistic-regression\n",
            "  extra_warning_msg=_LOGISTIC_SOLVER_CONVERGENCE_MSG,\n"
          ]
        }
      ]
    },
    {
      "cell_type": "code",
      "source": [
        "# Form confusion matrix as a DataFrame\n",
        "confusion_matrix_df = pd.DataFrame((confusion_matrix(y_test,y_test_pred)), \n",
        "                                   ('Tidak Potential','Potential','Sangat Potential'), \n",
        "                                   ('Tidak Potential','Potential','Sangat Potential'))\n",
        "\n",
        "# Plot confusion matrix\n",
        "plt.figure(figsize=(6,4))\n",
        "heatmap = sns.heatmap(confusion_matrix_df, annot=True, annot_kws={'size': 14}, fmt='d', cmap='YlGnBu')\n",
        "heatmap.yaxis.set_ticklabels(heatmap.yaxis.get_ticklabels(), rotation=0, ha='right', fontsize=12)\n",
        "heatmap.xaxis.set_ticklabels(heatmap.xaxis.get_ticklabels(), rotation=45, ha='right', fontsize=12)\n",
        "plt.title('Confusion Matrix for Testing Model\\n(Logistic Regression)\\n', fontsize=18, color='darkblue')\n",
        "plt.ylabel('True label', fontsize=14)\n",
        "plt.xlabel('Predicted label', fontsize=14)\n",
        "plt.show()"
      ],
      "metadata": {
        "colab": {
          "base_uri": "https://localhost:8080/",
          "height": 414
        },
        "id": "bkF3FSR4KqL2",
        "outputId": "76d45b1b-5919-4426-f0ea-9e659630e9c3"
      },
      "execution_count": 38,
      "outputs": [
        {
          "output_type": "display_data",
          "data": {
            "image/png": "[encoded data removed]",
            "text/plain": [
              "<Figure size 432x288 with 2 Axes>"
            ]
          },
          "metadata": {
            "needs_background": "light"
          }
        }
      ]
    },
    {
      "cell_type": "markdown",
      "source": [
        "### 5.2.2 **Model Decision Tree**"
      ],
      "metadata": {
        "id": "rFZIqSlBtFzn"
      }
    },
    {
      "cell_type": "code",
      "source": [
        "from sklearn.tree import DecisionTreeClassifier\n",
        "#Train the model\n",
        "tree_model = DecisionTreeClassifier().fit(x_train,y_train)\n",
        "# Predict\n",
        "y_test_pred = tree_model.predict(x_test)\n",
        "# Performansi model\n",
        "# score\n",
        "print(\"Decision Tree Model Score\" , \":\" , tree_model.score(x_train, y_train),\n",
        "      \"Cross Validation Score\" ,\":\" , tree_model.score(x_test, y_test))\n",
        "# classification report \n",
        "print('Classification Report Testing Model (Decision Tree) :')\n",
        "print(classification_report(y_test,y_test_pred))"
      ],
      "metadata": {
        "colab": {
          "base_uri": "https://localhost:8080/",
          "height": 0
        },
        "outputId": "f9a82929-455c-4bf9-f290-2f173be05c83",
        "id": "KgT0PQzxtFzo"
      },
      "execution_count": 39,
      "outputs": [
        {
          "output_type": "stream",
          "name": "stdout",
          "text": [
            "Decision Tree Model Score : 1.0 Cross Validation Score : 0.9923664122137404\n",
            "Classification Report Testing Model (Decision Tree) :\n",
            "              precision    recall  f1-score   support\n",
            "\n",
            "           0       0.99      0.99      0.99       362\n",
            "           1       0.99      0.99      0.99       391\n",
            "           2       0.99      1.00      0.99       295\n",
            "\n",
            "    accuracy                           0.99      1048\n",
            "   macro avg       0.99      0.99      0.99      1048\n",
            "weighted avg       0.99      0.99      0.99      1048\n",
            "\n"
          ]
        }
      ]
    },
    {
      "cell_type": "code",
      "source": [
        "# Form confusion matrix as a DataFrame\n",
        "confusion_matrix_df = pd.DataFrame((confusion_matrix(y_test, y_test_pred)), \n",
        "                                   ('Tidak Potential','Potential','Sangat Potential'), \n",
        "                                   ('Tidak Potential','Potential','Sangat Potential'))\n",
        "\n",
        "plt.figure(figsize=(6,4))\n",
        "heatmap = sns.heatmap(confusion_matrix_df, annot=True, annot_kws={'size': 14}, fmt='d', cmap='YlGnBu')\n",
        "heatmap.yaxis.set_ticklabels(heatmap.yaxis.get_ticklabels(), rotation=0, ha='right', fontsize=12)\n",
        "heatmap.xaxis.set_ticklabels(heatmap.xaxis.get_ticklabels(), rotation=45, ha='right', fontsize=12)\n",
        "plt.title('Confusion Matrix for Testing Model\\n(Decision Tree)\\n', fontsize = 18, color = 'darkblue')\n",
        "plt.ylabel('True label', fontsize = 14)\n",
        "plt.xlabel('Predicted label', fontsize = 14)\n",
        "plt.show()"
      ],
      "metadata": {
        "colab": {
          "base_uri": "https://localhost:8080/",
          "height": 414
        },
        "outputId": "c52542d3-6fbb-4c52-84a1-62ca62562c15",
        "id": "590373xutFzp"
      },
      "execution_count": 40,
      "outputs": [
        {
          "output_type": "display_data",
          "data": {
            "image/png": "[encoded data removed]",
            "text/plain": [
              "<Figure size 432x288 with 2 Axes>"
            ]
          },
          "metadata": {
            "needs_background": "light"
          }
        }
      ]
    },
    {
      "cell_type": "markdown",
      "source": [
        "### 5.2.3 **Model Random Forest**"
      ],
      "metadata": {
        "id": "jnzHjF31kqMU"
      }
    },
    {
      "cell_type": "code",
      "source": [
        "from sklearn.ensemble import RandomForestClassifier\n",
        "#Train the model\n",
        "rfc_model = RandomForestClassifier().fit(x_train,y_train)\n",
        "# Predict\n",
        "y_test_pred = rfc_model.predict(x_test)\n",
        "# Performansi model\n",
        "# score\n",
        "print(\"Random Forest Model Score\" , \":\" , rfc_model.score(x_train, y_train),\n",
        "      \"Cross Validation Score\" ,\":\" , rfc_model.score(x_test, y_test))\n",
        "# classification report \n",
        "print('Classification Report Testing Model (Random Forest) :')\n",
        "print(classification_report(y_test,y_test_pred))"
      ],
      "metadata": {
        "colab": {
          "base_uri": "https://localhost:8080/",
          "height": 0
        },
        "id": "o1ayPIA8ksSk",
        "outputId": "1712b8af-794f-49c0-cdc0-567ad5e7e446"
      },
      "execution_count": 41,
      "outputs": [
        {
          "output_type": "stream",
          "name": "stdout",
          "text": [
            "Random Forest Model Score : 1.0 Cross Validation Score : 0.9942748091603053\n",
            "Classification Report Testing Model (Random Forest) :\n",
            "              precision    recall  f1-score   support\n",
            "\n",
            "           0       0.99      0.99      0.99       362\n",
            "           1       1.00      0.99      0.99       391\n",
            "           2       0.99      1.00      0.99       295\n",
            "\n",
            "    accuracy                           0.99      1048\n",
            "   macro avg       0.99      0.99      0.99      1048\n",
            "weighted avg       0.99      0.99      0.99      1048\n",
            "\n"
          ]
        }
      ]
    },
    {
      "cell_type": "code",
      "source": [
        "# Form confusion matrix as a DataFrame\n",
        "confusion_matrix_df = pd.DataFrame((confusion_matrix(y_test, y_test_pred)), \n",
        "                                   ('Tidak Potential','Potential','Sangat Potential'), \n",
        "                                   ('Tidak Potential','Potential','Sangat Potential'))\n",
        "\n",
        "plt.figure(figsize=(6,4))\n",
        "heatmap = sns.heatmap(confusion_matrix_df, annot=True, annot_kws={'size': 14}, fmt='d', cmap='YlGnBu')\n",
        "heatmap.yaxis.set_ticklabels(heatmap.yaxis.get_ticklabels(), rotation=0, ha='right', fontsize=12)\n",
        "heatmap.xaxis.set_ticklabels(heatmap.xaxis.get_ticklabels(), rotation=45, ha='right', fontsize=12)\n",
        "plt.title('Confusion Matrix for Testing Model\\n(Random Forest)\\n', fontsize = 18, color = 'darkblue')\n",
        "plt.ylabel('True label', fontsize = 14)\n",
        "plt.xlabel('Predicted label', fontsize = 14)\n",
        "plt.show()"
      ],
      "metadata": {
        "colab": {
          "base_uri": "https://localhost:8080/",
          "height": 414
        },
        "id": "nkM_U4m6ldQS",
        "outputId": "2287abc8-6089-4b0c-fb07-aa8ad8790311"
      },
      "execution_count": 42,
      "outputs": [
        {
          "output_type": "display_data",
          "data": {
            "image/png": "[encoded data removed]",
            "text/plain": [
              "<Figure size 432x288 with 2 Axes>"
            ]
          },
          "metadata": {
            "needs_background": "light"
          }
        }
      ]
    },
    {
      "cell_type": "markdown",
      "source": [
        "### 5.2.4 **Model Support Vector Classification**"
      ],
      "metadata": {
        "id": "V8Z0ba0Cz0Os"
      }
    },
    {
      "cell_type": "code",
      "source": [
        "from sklearn.svm import SVC\n",
        "#Train the model\n",
        "svc_model = SVC().fit(x_train,y_train)\n",
        "# Predict\n",
        "y_test_pred = svc_model.predict(x_test)\n",
        "# Performansi model\n",
        "# score\n",
        "print(\"Support Vector Classification Model Score\" , \":\" , svc_model.score(x_train, y_train),\n",
        "      \"Cross Validation Score\" ,\":\" , svc_model.score(x_test, y_test))\n",
        "# classification report \n",
        "print('Classification Report Testing Model (Support Vector Classification) :')\n",
        "print(classification_report(y_test,y_test_pred))"
      ],
      "metadata": {
        "colab": {
          "base_uri": "https://localhost:8080/",
          "height": 0
        },
        "outputId": "22fc0ab9-6acf-4ab7-def0-84627edaf538",
        "id": "GaltCQGOz0Os"
      },
      "execution_count": 43,
      "outputs": [
        {
          "output_type": "stream",
          "name": "stdout",
          "text": [
            "Support Vector Classification Model Score : 0.4630071599045346 Cross Validation Score : 0.46564885496183206\n",
            "Classification Report Testing Model (Support Vector Classification) :\n",
            "              precision    recall  f1-score   support\n",
            "\n",
            "           0       0.45      0.88      0.60       362\n",
            "           1       0.45      0.19      0.27       391\n",
            "           2       0.55      0.32      0.41       295\n",
            "\n",
            "    accuracy                           0.47      1048\n",
            "   macro avg       0.48      0.46      0.42      1048\n",
            "weighted avg       0.48      0.47      0.42      1048\n",
            "\n"
          ]
        }
      ]
    },
    {
      "cell_type": "code",
      "source": [
        "# Form confusion matrix as a DataFrame\n",
        "confusion_matrix_df = pd.DataFrame((confusion_matrix(y_test, y_test_pred)), \n",
        "                                   ('Tidak Potential','Potential','Sangat Potential'), \n",
        "                                   ('Tidak Potential','Potential','Sangat Potential'))\n",
        "\n",
        "plt.figure(figsize=(6,4))\n",
        "heatmap = sns.heatmap(confusion_matrix_df, annot=True, annot_kws={'size': 14}, fmt='d', cmap='YlGnBu')\n",
        "heatmap.yaxis.set_ticklabels(heatmap.yaxis.get_ticklabels(), rotation=0, ha='right', fontsize=12)\n",
        "heatmap.xaxis.set_ticklabels(heatmap.xaxis.get_ticklabels(), rotation=45, ha='right', fontsize=12)\n",
        "plt.title('Confusion Matrix for Testing Model\\n(Support Vector Classification)\\n', fontsize = 18, color = 'darkblue')\n",
        "plt.ylabel('True label', fontsize = 14)\n",
        "plt.xlabel('Predicted label', fontsize = 14)\n",
        "plt.show()"
      ],
      "metadata": {
        "colab": {
          "base_uri": "https://localhost:8080/",
          "height": 414
        },
        "outputId": "70fc6a9f-c034-4966-c68a-216a1066929d",
        "id": "3an95Zc8z0Ot"
      },
      "execution_count": 44,
      "outputs": [
        {
          "output_type": "display_data",
          "data": {
            "image/png": "[encoded data removed]",
            "text/plain": [
              "<Figure size 432x288 with 2 Axes>"
            ]
          },
          "metadata": {
            "needs_background": "light"
          }
        }
      ]
    },
    {
      "cell_type": "markdown",
      "source": [
        "### 5.2.5 **Model Gaussian Naive Bayes**"
      ],
      "metadata": {
        "id": "qpjVozj7uvl0"
      }
    },
    {
      "cell_type": "code",
      "source": [
        "from sklearn.naive_bayes import GaussianNB\n",
        "#Train the model\n",
        "gnb_model = GaussianNB().fit(x_train,y_train)\n",
        "# Predict\n",
        "y_test_pred = gnb_model.predict(x_test)\n",
        "# Performansi model\n",
        "# score\n",
        "print(\"Gaussian Naive Bayes Score\" , \":\" , gnb_model.score(x_train, y_train),\n",
        "      \"Cross Validation Score\" ,\":\" , gnb_model.score(x_test, y_test))\n",
        "# classification report \n",
        "print('Classification Report Testing Model (Gaussian Naive Bayes) :')\n",
        "print(classification_report(y_test,y_test_pred))"
      ],
      "metadata": {
        "colab": {
          "base_uri": "https://localhost:8080/",
          "height": 0
        },
        "outputId": "86b4e2e9-cb8f-4345-c6de-17f4cbefe548",
        "id": "G1SORRVauvl0"
      },
      "execution_count": 45,
      "outputs": [
        {
          "output_type": "stream",
          "name": "stdout",
          "text": [
            "Gaussian Naive Bayes Score : 0.9601431980906922 Cross Validation Score : 0.9666030534351145\n",
            "Classification Report Testing Model (Gaussian Naive Bayes) :\n",
            "              precision    recall  f1-score   support\n",
            "\n",
            "           0       0.94      0.99      0.96       362\n",
            "           1       0.99      0.94      0.96       391\n",
            "           2       0.96      0.98      0.97       295\n",
            "\n",
            "    accuracy                           0.97      1048\n",
            "   macro avg       0.97      0.97      0.97      1048\n",
            "weighted avg       0.97      0.97      0.97      1048\n",
            "\n"
          ]
        }
      ]
    },
    {
      "cell_type": "code",
      "source": [
        "# Form confusion matrix as a DataFrame\n",
        "confusion_matrix_df = pd.DataFrame((confusion_matrix(y_test, y_test_pred)), \n",
        "                                   ('Tidak Potential','Potential','Sangat Potential'), \n",
        "                                   ('Tidak Potential','Potential','Sangat Potential'))\n",
        "\n",
        "plt.figure(figsize=(6,4))\n",
        "heatmap = sns.heatmap(confusion_matrix_df, annot=True, annot_kws={'size': 14}, fmt='d', cmap='YlGnBu')\n",
        "heatmap.yaxis.set_ticklabels(heatmap.yaxis.get_ticklabels(), rotation=0, ha='right', fontsize=12)\n",
        "heatmap.xaxis.set_ticklabels(heatmap.xaxis.get_ticklabels(), rotation=45, ha='right', fontsize=12)\n",
        "plt.title('Confusion Matrix for Testing Model\\n(Gaussian Naive Bayes)\\n', fontsize = 18, color = 'darkblue')\n",
        "plt.ylabel('True label', fontsize = 14)\n",
        "plt.xlabel('Predicted label', fontsize = 14)\n",
        "plt.show()"
      ],
      "metadata": {
        "colab": {
          "base_uri": "https://localhost:8080/",
          "height": 414
        },
        "outputId": "2637079c-f368-4e73-ff12-0967afb44728",
        "id": "igzYpg23uvl1"
      },
      "execution_count": 46,
      "outputs": [
        {
          "output_type": "display_data",
          "data": {
            "image/png": "[encoded data removed]",
            "text/plain": [
              "<Figure size 432x288 with 2 Axes>"
            ]
          },
          "metadata": {
            "needs_background": "light"
          }
        }
      ]
    },
    {
      "cell_type": "markdown",
      "source": [
        "### 5.2.6 **Model Gradient Boost Classification**"
      ],
      "metadata": {
        "id": "crqjntZwv1ns"
      }
    },
    {
      "cell_type": "code",
      "source": [
        "from sklearn.ensemble import GradientBoostingClassifier\n",
        "#Train the model\n",
        "gbc_model = GradientBoostingClassifier().fit(x_train,y_train)\n",
        "# Predict\n",
        "y_test_pred = gbc_model.predict(x_test)\n",
        "# Performansi model\n",
        "# score\n",
        "print(\"Gradient Boost Classification Score\" , \":\" , gbc_model.score(x_train, y_train),\n",
        "      \"Cross Validation Score\" ,\":\" , gbc_model.score(x_test, y_test))\n",
        "# classification report \n",
        "print('Classification Report Testing Model (Gradient Boost Classification) :')\n",
        "print(classification_report(y_test,y_test_pred))"
      ],
      "metadata": {
        "colab": {
          "base_uri": "https://localhost:8080/",
          "height": 0
        },
        "outputId": "334558ae-4f30-4845-ef64-94162e11e59b",
        "id": "reCKwTYev1ns"
      },
      "execution_count": 47,
      "outputs": [
        {
          "output_type": "stream",
          "name": "stdout",
          "text": [
            "Gradient Boost Classification Score : 1.0 Cross Validation Score : 0.9933206106870229\n",
            "Classification Report Testing Model (Gradient Boost Classification) :\n",
            "              precision    recall  f1-score   support\n",
            "\n",
            "           0       0.99      0.99      0.99       362\n",
            "           1       1.00      0.99      0.99       391\n",
            "           2       0.99      1.00      0.99       295\n",
            "\n",
            "    accuracy                           0.99      1048\n",
            "   macro avg       0.99      0.99      0.99      1048\n",
            "weighted avg       0.99      0.99      0.99      1048\n",
            "\n"
          ]
        }
      ]
    },
    {
      "cell_type": "code",
      "source": [
        "# Form confusion matrix as a DataFrame\n",
        "confusion_matrix_df = pd.DataFrame((confusion_matrix(y_test, y_test_pred)), \n",
        "                                   ('Tidak Potential','Potential','Sangat Potential'), \n",
        "                                   ('Tidak Potential','Potential','Sangat Potential'))\n",
        "\n",
        "plt.figure(figsize=(6,4))\n",
        "heatmap = sns.heatmap(confusion_matrix_df, annot=True, annot_kws={'size': 14}, fmt='d', cmap='YlGnBu')\n",
        "heatmap.yaxis.set_ticklabels(heatmap.yaxis.get_ticklabels(), rotation=0, ha='right', fontsize=12)\n",
        "heatmap.xaxis.set_ticklabels(heatmap.xaxis.get_ticklabels(), rotation=45, ha='right', fontsize=12)\n",
        "plt.title('Confusion Matrix for Testing Model\\n(Gradient Boost Classification)\\n', fontsize = 18, color = 'darkblue')\n",
        "plt.ylabel('True label', fontsize = 14)\n",
        "plt.xlabel('Predicted label', fontsize = 14)\n",
        "plt.show()"
      ],
      "metadata": {
        "colab": {
          "base_uri": "https://localhost:8080/",
          "height": 414
        },
        "outputId": "97fb8b0b-6782-48b6-c9af-de08d5f09475",
        "id": "Znh2khsXv1nt"
      },
      "execution_count": 48,
      "outputs": [
        {
          "output_type": "display_data",
          "data": {
            "image/png": "[encoded data removed]",
            "text/plain": [
              "<Figure size 432x288 with 2 Axes>"
            ]
          },
          "metadata": {
            "needs_background": "light"
          }
        }
      ]
    },
    {
      "cell_type": "markdown",
      "source": [
        "## 5.3 Model Evaluation"
      ],
      "metadata": {
        "id": "MSk61z-v0z97"
      }
    },
    {
      "cell_type": "code",
      "execution_count": 49,
      "metadata": {
        "id": "3SBp6xhuJi0p",
        "colab": {
          "base_uri": "https://localhost:8080/",
          "height": 237
        },
        "outputId": "95d6a75d-d070-49f8-a1f0-128387c38a95"
      },
      "outputs": [
        {
          "output_type": "execute_result",
          "data": {
            "text/html": [
              "\n",
              "  <div id=\"df-4c4bc374-5a1e-4377-8256-6a36e859f3cf\">\n",
              "    <div class=\"colab-df-container\">\n",
              "      <div>\n",
              "<style scoped>\n",
              "    .dataframe tbody tr th:only-of-type {\n",
              "        vertical-align: middle;\n",
              "    }\n",
              "\n",
              "    .dataframe tbody tr th {\n",
              "        vertical-align: top;\n",
              "    }\n",
              "\n",
              "    .dataframe thead th {\n",
              "        text-align: right;\n",
              "    }\n",
              "</style>\n",
              "<table border=\"1\" class=\"dataframe\">\n",
              "  <thead>\n",
              "    <tr style=\"text-align: right;\">\n",
              "      <th></th>\n",
              "      <th>Model</th>\n",
              "      <th>Score</th>\n",
              "      <th>Cross Validation</th>\n",
              "    </tr>\n",
              "  </thead>\n",
              "  <tbody>\n",
              "    <tr>\n",
              "      <th>2</th>\n",
              "      <td>Random Forest</td>\n",
              "      <td>1.000000</td>\n",
              "      <td>0.994275</td>\n",
              "    </tr>\n",
              "    <tr>\n",
              "      <th>5</th>\n",
              "      <td>Gradient Boost Classification</td>\n",
              "      <td>1.000000</td>\n",
              "      <td>0.993321</td>\n",
              "    </tr>\n",
              "    <tr>\n",
              "      <th>1</th>\n",
              "      <td>Decision Tree</td>\n",
              "      <td>1.000000</td>\n",
              "      <td>0.992366</td>\n",
              "    </tr>\n",
              "    <tr>\n",
              "      <th>4</th>\n",
              "      <td>Gaussian Naive Bayes</td>\n",
              "      <td>0.960143</td>\n",
              "      <td>0.966603</td>\n",
              "    </tr>\n",
              "    <tr>\n",
              "      <th>0</th>\n",
              "      <td>Logistic Regression</td>\n",
              "      <td>0.939141</td>\n",
              "      <td>0.932252</td>\n",
              "    </tr>\n",
              "    <tr>\n",
              "      <th>3</th>\n",
              "      <td>Support Vector Classification</td>\n",
              "      <td>0.463007</td>\n",
              "      <td>0.465649</td>\n",
              "    </tr>\n",
              "  </tbody>\n",
              "</table>\n",
              "</div>\n",
              "      <button class=\"colab-df-convert\" onclick=\"convertToInteractive('df-4c4bc374-5a1e-4377-8256-6a36e859f3cf')\"\n",
              "              title=\"Convert this dataframe to an interactive table.\"\n",
              "              style=\"display:none;\">\n",
              "        \n",
              "  <svg xmlns=\"http://www.w3.org/2000/svg\" height=\"24px\"viewBox=\"0 0 24 24\"\n",
              "       width=\"24px\">\n",
              "    <path d=\"M0 0h24v24H0V0z\" fill=\"none\"/>\n",
              "    <path d=\"M18.56 5.44l.94 2.06.94-2.06 2.06-.94-2.06-.94-.94-2.06-.94 2.06-2.06.94zm-11 1L8.5 8.5l.94-2.06 2.06-.94-2.06-.94L8.5 2.5l-.94 2.06-2.06.94zm10 10l.94 2.06.94-2.06 2.06-.94-2.06-.94-.94-2.06-.94 2.06-2.06.94z\"/><path d=\"M17.41 7.96l-1.37-1.37c-.4-.4-.92-.59-1.43-.59-.52 0-1.04.2-1.43.59L10.3 9.45l-7.72 7.72c-.78.78-.78 2.05 0 2.83L4 21.41c.39.39.9.59 1.41.59.51 0 1.02-.2 1.41-.59l7.78-7.78 2.81-2.81c.8-.78.8-2.07 0-2.86zM5.41 20L4 18.59l7.72-7.72 1.47 1.35L5.41 20z\"/>\n",
              "  </svg>\n",
              "      </button>\n",
              "      \n",
              "  <style>\n",
              "    .colab-df-container {\n",
              "      display:flex;\n",
              "      flex-wrap:wrap;\n",
              "      gap: 12px;\n",
              "    }\n",
              "\n",
              "    .colab-df-convert {\n",
              "      background-color: #E8F0FE;\n",
              "      border: none;\n",
              "      border-radius: 50%;\n",
              "      cursor: pointer;\n",
              "      display: none;\n",
              "      fill: #1967D2;\n",
              "      height: 32px;\n",
              "      padding: 0 0 0 0;\n",
              "      width: 32px;\n",
              "    }\n",
              "\n",
              "    .colab-df-convert:hover {\n",
              "      background-color: #E2EBFA;\n",
              "      box-shadow: 0px 1px 2px rgba(60, 64, 67, 0.3), 0px 1px 3px 1px rgba(60, 64, 67, 0.15);\n",
              "      fill: #174EA6;\n",
              "    }\n",
              "\n",
              "    [theme=dark] .colab-df-convert {\n",
              "      background-color: #3B4455;\n",
              "      fill: #D2E3FC;\n",
              "    }\n",
              "\n",
              "    [theme=dark] .colab-df-convert:hover {\n",
              "      background-color: #434B5C;\n",
              "      box-shadow: 0px 1px 3px 1px rgba(0, 0, 0, 0.15);\n",
              "      filter: drop-shadow(0px 1px 2px rgba(0, 0, 0, 0.3));\n",
              "      fill: #FFFFFF;\n",
              "    }\n",
              "  </style>\n",
              "\n",
              "      <script>\n",
              "        const buttonEl =\n",
              "          document.querySelector('#df-4c4bc374-5a1e-4377-8256-6a36e859f3cf button.colab-df-convert');\n",
              "        buttonEl.style.display =\n",
              "          google.colab.kernel.accessAllowed ? 'block' : 'none';\n",
              "\n",
              "        async function convertToInteractive(key) {\n",
              "          const element = document.querySelector('#df-4c4bc374-5a1e-4377-8256-6a36e859f3cf');\n",
              "          const dataTable =\n",
              "            await google.colab.kernel.invokeFunction('convertToInteractive',\n",
              "                                                     [key], {});\n",
              "          if (!dataTable) return;\n",
              "\n",
              "          const docLinkHtml = 'Like what you see? Visit the ' +\n",
              "            '<a target=\"_blank\" href=https://colab.research.google.com/notebooks/data_table.ipynb>data table notebook</a>'\n",
              "            + ' to learn more about interactive tables.';\n",
              "          element.innerHTML = '';\n",
              "          dataTable['output_type'] = 'display_data';\n",
              "          await google.colab.output.renderOutput(dataTable, element);\n",
              "          const docLink = document.createElement('div');\n",
              "          docLink.innerHTML = docLinkHtml;\n",
              "          element.appendChild(docLink);\n",
              "        }\n",
              "      </script>\n",
              "    </div>\n",
              "  </div>\n",
              "  "
            ],
            "text/plain": [
              "                           Model     Score  Cross Validation\n",
              "2                  Random Forest  1.000000          0.994275\n",
              "5  Gradient Boost Classification  1.000000          0.993321\n",
              "1                  Decision Tree  1.000000          0.992366\n",
              "4           Gaussian Naive Bayes  0.960143          0.966603\n",
              "0            Logistic Regression  0.939141          0.932252\n",
              "3  Support Vector Classification  0.463007          0.465649"
            ]
          },
          "metadata": {},
          "execution_count": 49
        }
      ],
      "source": [
        "models = pd.DataFrame({\n",
        "    'Model' : ['Logistic Regression', 'Decision Tree', 'Random Forest','Support Vector Classification', \n",
        "               'Gaussian Naive Bayes', 'Gradient Boost Classification'],\n",
        "    'Score' : [log_model.score(x_train, y_train), tree_model.score(x_train, y_train), \n",
        "               rfc_model.score(x_train, y_train), svc_model.score(x_train, y_train),\n",
        "               gnb_model.score(x_train, y_train), gbc_model.score(x_train, y_train)],\n",
        "    'Cross Validation' : [log_model.score(x_test, y_test), tree_model.score(x_test, y_test), \n",
        "               rfc_model.score(x_test, y_test), svc_model.score(x_test, y_test),\n",
        "               gnb_model.score(x_test, y_test), gbc_model.score(x_test, y_test)]})\n",
        "\n",
        "models.sort_values(by = 'Cross Validation', ascending = False)\n",
        "#models"
      ]
    },
    {
      "cell_type": "markdown",
      "source": [
        "Dari perbandingan 8 metode klasifikasi di atas diperoleh bahwa 3 model dengan score Cross Validation tertinggi yaitu berturut-turut sebesar 0.994, 0.993, 0.992 adalah **Random Forest**, **Gradient Boost Classification**, dan **Decision Tree**"
      ],
      "metadata": {
        "id": "5b4LYb9BffGG"
      }
    },
    {
      "cell_type": "markdown",
      "metadata": {
        "id": "YYng7xkBxThJ"
      },
      "source": [
        "# 6. Deployment"
      ]
    },
    {
      "cell_type": "markdown",
      "source": [
        "### **Prediksi model dengan metode Random Forest**"
      ],
      "metadata": {
        "id": "SHzK3qQ3vcu2"
      }
    },
    {
      "cell_type": "code",
      "execution_count": 50,
      "metadata": {
        "id": "OrUH8XJ8xThJ",
        "colab": {
          "base_uri": "https://localhost:8080/",
          "height": 0
        },
        "outputId": "c834ba2a-86fb-43d0-d222-261e78ea54c3"
      },
      "outputs": [
        {
          "output_type": "stream",
          "name": "stdout",
          "text": [
            "Prediksi klasifikasi Label dari input \n",
            "[[Rating, Total_Reviews, Review_Relvan, SME_Data, Distance, Check_Web, Check_Telepon]] =  [[3, 1000, 1, 1, 0.5, 0, 1]] \n",
            "adalah kategori Potential\n"
          ]
        },
        {
          "output_type": "stream",
          "name": "stderr",
          "text": [
            "/usr/local/lib/python3.7/dist-packages/sklearn/base.py:451: UserWarning: X does not have valid feature names, but RandomForestClassifier was fitted with feature names\n",
            "  \"X does not have valid feature names, but\"\n"
          ]
        }
      ],
      "source": [
        "# membuat dictionary label\n",
        "label = ['Tidak Potential','Potential','Sangat Potential']\n",
        "labeldic = dict() \n",
        "for index,value in enumerate(label):\n",
        "  labeldic[index] = value\n",
        "\n",
        "# input berupa nilai numerik [[Rating, Total_Reviews, SME_Data, Distance, Check_Web, Check_Telepon]]\n",
        "input = [[3, 1000, 1, 1, 0.5, 0, 1]] #MASUKKAN NILAI INPUT DI SINI\n",
        "predict = int(rfc_model.predict(input))\n",
        "\n",
        "print('Prediksi klasifikasi Label dari input \\n[[Rating, Total_Reviews, Review_Relvan, SME_Data, Distance, Check_Web, Check_Telepon]] = ', \n",
        "      input, '\\nadalah kategori', labeldic[predict])"
      ]
    },
    {
      "cell_type": "code",
      "source": [
        ""
      ],
      "metadata": {
        "id": "lq3N67o9YOVl"
      },
      "execution_count": 50,
      "outputs": []
    }
  ],
  "metadata": {
    "colab": {
      "collapsed_sections": [
        "9UNjZgN9Xj5V",
        "XUiICv8rQl_t"
      ],
      "name": "Note Book GMAPS.ipynb",
      "provenance": []
    },
    "kernelspec": {
      "display_name": "Python 3",
      "language": "python",
      "name": "python3"
    },
    "language_info": {
      "codemirror_mode": {
        "name": "ipython",
        "version": 3
      },
      "file_extension": ".py",
      "mimetype": "text/x-python",
      "name": "python",
      "nbconvert_exporter": "python",
      "pygments_lexer": "ipython3",
      "version": "3.7.4"
    }
  },
  "nbformat": 4,
  "nbformat_minor": 0
}